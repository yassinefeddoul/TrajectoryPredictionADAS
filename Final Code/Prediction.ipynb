{
 "cells": [
  {
   "cell_type": "markdown",
   "id": "b1e67e83",
   "metadata": {
    "scrolled": true
   },
   "source": [
    "# Import necessary libraries"
   ]
  },
  {
   "cell_type": "code",
   "execution_count": 2,
   "id": "f275693e",
   "metadata": {},
   "outputs": [
    {
     "data": {
      "text/plain": [
       "['C:\\\\Users\\\\Yassi\\\\anaconda3\\\\envs\\\\tf\\\\lib\\\\site-packages\\\\ipykernel_launcher.py']"
      ]
     },
     "execution_count": 2,
     "metadata": {},
     "output_type": "execute_result"
    }
   ],
   "source": [
    "from absl import flags\n",
    "import sys\n",
    "FLAGS = flags.FLAGS\n",
    "sys.argv = sys.argv[:1]\n",
    "FLAGS(sys.argv)"
   ]
  },
  {
   "cell_type": "code",
   "execution_count": 3,
   "id": "6dd91721",
   "metadata": {},
   "outputs": [],
   "source": [
    "import time\n",
    "import numpy as np\n",
    "import cv2\n",
    "import matplotlib.pyplot as plt"
   ]
  },
  {
   "cell_type": "code",
   "execution_count": 4,
   "id": "2675d01d",
   "metadata": {},
   "outputs": [],
   "source": [
    "import tensorflow as tf\n",
    "from yolov3_tf2.models import YoloV3\n",
    "from yolov3_tf2.dataset import transform_images\n",
    "from yolov3_tf2.utils import convert_boxes"
   ]
  },
  {
   "cell_type": "code",
   "execution_count": 8,
   "id": "0642f5ec",
   "metadata": {},
   "outputs": [],
   "source": [
    "from deep_sort import preprocessing\n",
    "from deep_sort import nn_matching\n",
    "from deep_sort.detection import Detection\n",
    "from deep_sort.tracker import Tracker\n",
    "from tools import generate_detections as gdet"
   ]
  },
  {
   "cell_type": "code",
   "execution_count": 5,
   "id": "b4b2c724",
   "metadata": {},
   "outputs": [
    {
     "data": {
      "text/plain": [
       "<tensorflow.python.training.tracking.util.CheckpointLoadStatus at 0x1cba253b070>"
      ]
     },
     "execution_count": 5,
     "metadata": {},
     "output_type": "execute_result"
    }
   ],
   "source": [
    "class_names = [c.strip() for c in open('./data/labels/coco.names').readlines()]\n",
    "yolo = YoloV3(classes=len(class_names))\n",
    "yolo.load_weights('./weights/yolov3.tf')"
   ]
  },
  {
   "cell_type": "code",
   "execution_count": 6,
   "id": "c1cfa5ec",
   "metadata": {},
   "outputs": [],
   "source": [
    "max_cosine_distance = 0.5\n",
    "nn_budget = None\n",
    "nms_max_overlap = 0.8"
   ]
  },
  {
   "cell_type": "code",
   "execution_count": null,
   "id": "4c54d823",
   "metadata": {},
   "outputs": [],
   "source": [
    "model_filename = 'model_data/mars-small128.pb'\n",
    "encoder = gdet.create_box_encoder(model_filename, batch_size=1)\n",
    "metric = nn_matching.NearestNeighborDistanceMetric('cosine', max_cosine_distance, nn_budget)\n",
    "tracker = Tracker(metric)"
   ]
  },
  {
   "cell_type": "code",
   "execution_count": 8,
   "id": "0684e2fb",
   "metadata": {},
   "outputs": [],
   "source": [
    "vid = cv2.VideoCapture('./data/video/project_video.mp4')"
   ]
  },
  {
   "cell_type": "code",
   "execution_count": null,
   "id": "3db2a603",
   "metadata": {},
   "outputs": [],
   "source": [
    "codec = cv2.VideoWriter_fourcc(*'XVID')\n",
    "vid_fps =int(vid.get(cv2.CAP_PROP_FPS))\n",
    "vid_width,vid_height = int(vid.get(cv2.CAP_PROP_FRAME_WIDTH)), int(vid.get(cv2.CAP_PROP_FRAME_HEIGHT))\n",
    "out = cv2.VideoWriter('./data/video/results.avi', codec, vid_fps, (vid_width, vid_height))"
   ]
  },
  {
   "cell_type": "code",
   "execution_count": 1,
   "id": "be73af3b",
   "metadata": {},
   "outputs": [],
   "source": [
    "from _collections import deque\n",
    "pts = [deque(maxlen=30) for _ in range(1000)]"
   ]
  },
  {
   "cell_type": "code",
   "execution_count": 17,
   "id": "9cb2d103",
   "metadata": {},
   "outputs": [],
   "source": [
    "counter = []\n",
    "k=0\n",
    "allcenters = []\n",
    "centers = []\n",
    "centers_x = []\n",
    "centers_y = []"
   ]
  },
  {
   "cell_type": "markdown",
   "id": "848a838c",
   "metadata": {},
   "source": [
    "# Tracking algorithm"
   ]
  },
  {
   "cell_type": "code",
   "execution_count": null,
   "id": "e274cedf",
   "metadata": {},
   "outputs": [],
   "source": [
    "while True:\n",
    "    _, img = vid.read()\n",
    "    if img is None:\n",
    "        print('Completed')\n",
    "        break\n",
    "\n",
    "    img_in = cv2.cvtColor(img, cv2.COLOR_BGR2RGB)\n",
    "    img_in = tf.expand_dims(img_in, 0)\n",
    "    img_in = transform_images(img_in, 416)\n",
    "\n",
    "    t1 = time.time()\n",
    "\n",
    "    boxes, scores, classes, nums = yolo.predict(img_in)\n",
    "\n",
    "    classes = classes[0]\n",
    "    names = []\n",
    "    for i in range(len(classes)):\n",
    "        names.append(class_names[int(classes[i])])\n",
    "    names = np.array(names)\n",
    "    converted_boxes = convert_boxes(img, boxes[0])\n",
    "    features = encoder(img, converted_boxes)\n",
    "\n",
    "    detections = [Detection(bbox, score, class_name, feature) for bbox, score, class_name, feature in\n",
    "                  zip(converted_boxes, scores[0], names, features)]\n",
    "\n",
    "    boxs = np.array([d.tlwh for d in detections])\n",
    "    scores = np.array([d.confidence for d in detections])\n",
    "    classes = np.array([d.class_name for d in detections])\n",
    "    indices = preprocessing.non_max_suppression(boxs, classes, nms_max_overlap, scores)\n",
    "    detections = [detections[i] for i in indices]\n",
    "\n",
    "    tracker.predict()\n",
    "    tracker.update(detections)\n",
    "\n",
    "    cmap = plt.get_cmap('tab20b')\n",
    "    colors = [cmap(i)[:3] for i in np.linspace(0,1,20)]\n",
    "\n",
    "    current_count = int(0)\n",
    "    #centers = []\n",
    "    for track in tracker.tracks:\n",
    "        if not track.is_confirmed() or track.time_since_update >1:\n",
    "            continue\n",
    "        bbox = track.to_tlbr()\n",
    "        class_name= track.get_class()\n",
    "        color = colors[int(track.track_id) % len(colors)]\n",
    "        color = [i * 255 for i in color]\n",
    "\n",
    "        cv2.rectangle(img, (int(bbox[0]),int(bbox[1])), (int(bbox[2]),int(bbox[3])), color, 2)\n",
    "        cv2.rectangle(img, (int(bbox[0]), int(bbox[1]-30)), (int(bbox[0])+(len(class_name)\n",
    "                    +len(str(track.track_id)))*17, int(bbox[1])), color, -1)\n",
    "        cv2.putText(img, class_name+\"-\"+str(track.track_id), (int(bbox[0]), int(bbox[1]-10)), 0, 0.75,\n",
    "                    (255, 255, 255), 2)\n",
    "\n",
    "        k=k+1\n",
    "        x = int(((bbox[0]) + (bbox[2]))/2)\n",
    "        y = int(((bbox[1])+(bbox[3]))/2)\n",
    "        x = float(x)\n",
    "        y = float(y)\n",
    "        center = [x, y]\n",
    "        #center = np.array(center)\n",
    "        #pts[track.track_id].append(center)\n",
    "        centers.append([center, k, track.track_id])\n",
    "        centers_x.append([x, k, track.track_id])\n",
    "        centers_y.append([y, k, track.track_id])\n",
    "        \n",
    "        #print(centers)\n",
    "        \n",
    "\n",
    "        for j in range(1, len(pts[track.track_id])):\n",
    "            if pts[track.track_id][j-1] is None or pts[track.track_id][j] is None:\n",
    "                continue\n",
    "            thickness = int(np.sqrt(64/float(j+1))*2)\n",
    "            cv2.line(img, (pts[track.track_id][j-1]), (pts[track.track_id][j]), color, thickness)\n",
    "\n",
    "        height, width, _ = img.shape\n",
    "        cv2.line(img, (0, int(3*height/6+height/20)), (width, int(3*height/6+height/20)), (0, 255, 0), thickness=2)\n",
    "        cv2.line(img, (0, int(3*height/6-height/20)), (width, int(3*height/6-height/20)), (0, 255, 0), thickness=2)\n",
    "\n",
    "        center_y = int(((bbox[1])+(bbox[3]))/2)\n",
    "\n",
    "        if center_y <= int(3*height/6+height/20) and center_y >= int(3*height/6-height/20):\n",
    "            if class_name == 'car' or class_name == 'truck':\n",
    "                counter.append(int(track.track_id))\n",
    "                current_count += 1\n",
    "    #allcenters.append(centers)\n",
    "\n",
    "    total_count = len(set(counter))\n",
    "    cv2.putText(img, \"Current Vehicle Count: \" + str(current_count), (0, 80), 0, 1, (0, 0, 255), 2)\n",
    "    cv2.putText(img, \"Total Vehicle Count: \" + str(total_count), (0,130), 0, 1, (0,0,255), 2)\n",
    "\n",
    "    fps = 1./(time.time()-t1)\n",
    "    cv2.putText(img, \"FPS: {:.2f}\".format(fps), (0,30), 0, 1, (0,0,255), 2)\n",
    "    cv2.resizeWindow('output', 1024, 768)\n",
    "    cv2.imshow('output', img)\n",
    "    out.write(img)\n",
    "\n",
    "    if cv2.waitKey(1) == ord('q'):\n",
    "        break\n",
    "vid.release()\n",
    "out.release()\n",
    "cv2.destroyAllWindows()"
   ]
  },
  {
   "cell_type": "code",
   "execution_count": 12,
   "id": "51f3657e",
   "metadata": {},
   "outputs": [],
   "source": [
    "import pandas as pd"
   ]
  },
  {
   "cell_type": "markdown",
   "id": "0f9c5a20",
   "metadata": {},
   "source": [
    "# Extract abscissa and ordinate independently"
   ]
  },
  {
   "cell_type": "code",
   "execution_count": 15,
   "id": "181a37a4",
   "metadata": {},
   "outputs": [],
   "source": [
    "df_x = pd.DataFrame(centers_x, columns=[\"x\", \"temps\", \"index\"])\n",
    "df_y = pd.DataFrame(centers_y, columns=[\"y\", \"temps\", \"index\"])"
   ]
  },
  {
   "cell_type": "code",
   "execution_count": 16,
   "id": "d485fe87",
   "metadata": {},
   "outputs": [
    {
     "data": {
      "text/html": [
       "<div>\n",
       "<style scoped>\n",
       "    .dataframe tbody tr th:only-of-type {\n",
       "        vertical-align: middle;\n",
       "    }\n",
       "\n",
       "    .dataframe tbody tr th {\n",
       "        vertical-align: top;\n",
       "    }\n",
       "\n",
       "    .dataframe thead th {\n",
       "        text-align: right;\n",
       "    }\n",
       "</style>\n",
       "<table border=\"1\" class=\"dataframe\">\n",
       "  <thead>\n",
       "    <tr style=\"text-align: right;\">\n",
       "      <th></th>\n",
       "      <th>x</th>\n",
       "      <th>temps</th>\n",
       "      <th>index</th>\n",
       "    </tr>\n",
       "  </thead>\n",
       "  <tbody>\n",
       "    <tr>\n",
       "      <th>0</th>\n",
       "      <td>276.0</td>\n",
       "      <td>1</td>\n",
       "      <td>6</td>\n",
       "    </tr>\n",
       "    <tr>\n",
       "      <th>1</th>\n",
       "      <td>267.0</td>\n",
       "      <td>2</td>\n",
       "      <td>6</td>\n",
       "    </tr>\n",
       "    <tr>\n",
       "      <th>2</th>\n",
       "      <td>260.0</td>\n",
       "      <td>3</td>\n",
       "      <td>6</td>\n",
       "    </tr>\n",
       "    <tr>\n",
       "      <th>3</th>\n",
       "      <td>252.0</td>\n",
       "      <td>4</td>\n",
       "      <td>6</td>\n",
       "    </tr>\n",
       "    <tr>\n",
       "      <th>4</th>\n",
       "      <td>244.0</td>\n",
       "      <td>5</td>\n",
       "      <td>6</td>\n",
       "    </tr>\n",
       "    <tr>\n",
       "      <th>...</th>\n",
       "      <td>...</td>\n",
       "      <td>...</td>\n",
       "      <td>...</td>\n",
       "    </tr>\n",
       "    <tr>\n",
       "      <th>2745</th>\n",
       "      <td>807.0</td>\n",
       "      <td>2746</td>\n",
       "      <td>128</td>\n",
       "    </tr>\n",
       "    <tr>\n",
       "      <th>2746</th>\n",
       "      <td>1219.0</td>\n",
       "      <td>2747</td>\n",
       "      <td>136</td>\n",
       "    </tr>\n",
       "    <tr>\n",
       "      <th>2747</th>\n",
       "      <td>669.0</td>\n",
       "      <td>2748</td>\n",
       "      <td>252</td>\n",
       "    </tr>\n",
       "    <tr>\n",
       "      <th>2748</th>\n",
       "      <td>807.0</td>\n",
       "      <td>2749</td>\n",
       "      <td>128</td>\n",
       "    </tr>\n",
       "    <tr>\n",
       "      <th>2749</th>\n",
       "      <td>1217.0</td>\n",
       "      <td>2750</td>\n",
       "      <td>136</td>\n",
       "    </tr>\n",
       "  </tbody>\n",
       "</table>\n",
       "<p>2750 rows × 3 columns</p>\n",
       "</div>"
      ],
      "text/plain": [
       "           x  temps  index\n",
       "0      276.0      1      6\n",
       "1      267.0      2      6\n",
       "2      260.0      3      6\n",
       "3      252.0      4      6\n",
       "4      244.0      5      6\n",
       "...      ...    ...    ...\n",
       "2745   807.0   2746    128\n",
       "2746  1219.0   2747    136\n",
       "2747   669.0   2748    252\n",
       "2748   807.0   2749    128\n",
       "2749  1217.0   2750    136\n",
       "\n",
       "[2750 rows x 3 columns]"
      ]
     },
     "execution_count": 16,
     "metadata": {},
     "output_type": "execute_result"
    }
   ],
   "source": [
    "df_x"
   ]
  },
  {
   "cell_type": "code",
   "execution_count": 17,
   "id": "888367fd",
   "metadata": {},
   "outputs": [
    {
     "data": {
      "text/html": [
       "<div>\n",
       "<style scoped>\n",
       "    .dataframe tbody tr th:only-of-type {\n",
       "        vertical-align: middle;\n",
       "    }\n",
       "\n",
       "    .dataframe tbody tr th {\n",
       "        vertical-align: top;\n",
       "    }\n",
       "\n",
       "    .dataframe thead th {\n",
       "        text-align: right;\n",
       "    }\n",
       "</style>\n",
       "<table border=\"1\" class=\"dataframe\">\n",
       "  <thead>\n",
       "    <tr style=\"text-align: right;\">\n",
       "      <th></th>\n",
       "      <th>y</th>\n",
       "      <th>temps</th>\n",
       "      <th>index</th>\n",
       "    </tr>\n",
       "  </thead>\n",
       "  <tbody>\n",
       "    <tr>\n",
       "      <th>0</th>\n",
       "      <td>427.0</td>\n",
       "      <td>1</td>\n",
       "      <td>6</td>\n",
       "    </tr>\n",
       "    <tr>\n",
       "      <th>1</th>\n",
       "      <td>426.0</td>\n",
       "      <td>2</td>\n",
       "      <td>6</td>\n",
       "    </tr>\n",
       "    <tr>\n",
       "      <th>2</th>\n",
       "      <td>426.0</td>\n",
       "      <td>3</td>\n",
       "      <td>6</td>\n",
       "    </tr>\n",
       "    <tr>\n",
       "      <th>3</th>\n",
       "      <td>426.0</td>\n",
       "      <td>4</td>\n",
       "      <td>6</td>\n",
       "    </tr>\n",
       "    <tr>\n",
       "      <th>4</th>\n",
       "      <td>427.0</td>\n",
       "      <td>5</td>\n",
       "      <td>6</td>\n",
       "    </tr>\n",
       "    <tr>\n",
       "      <th>...</th>\n",
       "      <td>...</td>\n",
       "      <td>...</td>\n",
       "      <td>...</td>\n",
       "    </tr>\n",
       "    <tr>\n",
       "      <th>2745</th>\n",
       "      <td>441.0</td>\n",
       "      <td>2746</td>\n",
       "      <td>128</td>\n",
       "    </tr>\n",
       "    <tr>\n",
       "      <th>2746</th>\n",
       "      <td>435.0</td>\n",
       "      <td>2747</td>\n",
       "      <td>136</td>\n",
       "    </tr>\n",
       "    <tr>\n",
       "      <th>2747</th>\n",
       "      <td>406.0</td>\n",
       "      <td>2748</td>\n",
       "      <td>252</td>\n",
       "    </tr>\n",
       "    <tr>\n",
       "      <th>2748</th>\n",
       "      <td>443.0</td>\n",
       "      <td>2749</td>\n",
       "      <td>128</td>\n",
       "    </tr>\n",
       "    <tr>\n",
       "      <th>2749</th>\n",
       "      <td>434.0</td>\n",
       "      <td>2750</td>\n",
       "      <td>136</td>\n",
       "    </tr>\n",
       "  </tbody>\n",
       "</table>\n",
       "<p>2750 rows × 3 columns</p>\n",
       "</div>"
      ],
      "text/plain": [
       "          y  temps  index\n",
       "0     427.0      1      6\n",
       "1     426.0      2      6\n",
       "2     426.0      3      6\n",
       "3     426.0      4      6\n",
       "4     427.0      5      6\n",
       "...     ...    ...    ...\n",
       "2745  441.0   2746    128\n",
       "2746  435.0   2747    136\n",
       "2747  406.0   2748    252\n",
       "2748  443.0   2749    128\n",
       "2749  434.0   2750    136\n",
       "\n",
       "[2750 rows x 3 columns]"
      ]
     },
     "execution_count": 17,
     "metadata": {},
     "output_type": "execute_result"
    }
   ],
   "source": [
    "df_y"
   ]
  },
  {
   "cell_type": "code",
   "execution_count": 13,
   "id": "921a4a2e",
   "metadata": {},
   "outputs": [],
   "source": [
    "dic_x=dict()\n",
    "dicc_x=dict()\n",
    "dic_y=dict()\n",
    "dicc_y=dict()"
   ]
  },
  {
   "cell_type": "markdown",
   "id": "22d795b7",
   "metadata": {},
   "source": [
    "# Assign data to each object"
   ]
  },
  {
   "cell_type": "code",
   "execution_count": 19,
   "id": "11602353",
   "metadata": {},
   "outputs": [],
   "source": [
    "for x in df_x['index'].unique():\n",
    "    dic_x[x]= df_x[df_x['index']==x]\n",
    "    dic_x[x] = dic_x[x].drop(columns=['temps'])\n",
    "    dic_x[x] = dic_x[x].drop(columns=['index'])\n",
    "    dicc_x[x] = dic_x[x]\n",
    "    dic_x[x] = dic_x[x].values.tolist()"
   ]
  },
  {
   "cell_type": "code",
   "execution_count": 20,
   "id": "ad750ab8",
   "metadata": {},
   "outputs": [],
   "source": [
    "for y in df_y['index'].unique():\n",
    "    dic_y[y]= df_y[df_y['index']==y]\n",
    "    dic_y[y] = dic_y[y].drop(columns=['temps'])\n",
    "    dic_y[y] = dic_y[y].drop(columns=['index'])\n",
    "    dicc_y[y] = dic_y[y]\n",
    "    dic_y[y] = dic_y[y].values.tolist()"
   ]
  },
  {
   "cell_type": "code",
   "execution_count": 14,
   "id": "6a3ebef4",
   "metadata": {},
   "outputs": [],
   "source": [
    "dic2_x = dict()\n",
    "dic2_y = dict()"
   ]
  },
  {
   "cell_type": "markdown",
   "id": "5fa0dd15",
   "metadata": {},
   "source": [
    "# Data structuring"
   ]
  },
  {
   "cell_type": "code",
   "execution_count": 22,
   "id": "60ad6031",
   "metadata": {},
   "outputs": [],
   "source": [
    "for key in dicc_x:    \n",
    "    n=0\n",
    "    dic2_x[key]=list()\n",
    "    for lin in dicc_x[key].index:\n",
    "        if n+4 > len(dicc_x[key])-1:\n",
    "            #print(str(key)+\"      \"+str(n)+\"    \"+str(len(dic[key])-5)+\"    \"+str(len(dic[key])-1))\n",
    "            break\n",
    "        x1 = dic_x[key][n][0]\n",
    "        x2 = dic_x[key][n+1][0]\n",
    "        x3 = dic_x[key][n+2][0]\n",
    "        x4 = dic_x[key][n+3][0]\n",
    "        x5 = dic_x[key][n+4][0]\n",
    "        n = n+5\n",
    "        #print(n)\n",
    "        #print(lin+4)\n",
    "        dic2_x[key].append([x1, x2, x3, x4, x5])\n",
    "    dic2_x[key] = pd.DataFrame(dic2_x[key], columns=[\"x1\", \"x2\", \"x3\", \"x4\", \"x5\"])\n",
    "    #break"
   ]
  },
  {
   "cell_type": "code",
   "execution_count": 23,
   "id": "d9227a75",
   "metadata": {},
   "outputs": [],
   "source": [
    "for key in dicc_y:    \n",
    "    n=0\n",
    "    dic2_y[key]=list()\n",
    "    for lin in dicc_y[key].index:\n",
    "        if n+4 > len(dicc_y[key])-1:\n",
    "            #print(str(key)+\"      \"+str(n)+\"    \"+str(len(dic[key])-5)+\"    \"+str(len(dic[key])-1))\n",
    "            break\n",
    "        y1 = dic_y[key][n][0]\n",
    "        y2 = dic_y[key][n+1][0]\n",
    "        y3 = dic_y[key][n+2][0]\n",
    "        y4 = dic_y[key][n+3][0]\n",
    "        y5 = dic_y[key][n+4][0]\n",
    "        n = n+5\n",
    "        #print(n)\n",
    "        #print(lin+4)\n",
    "        dic2_y[key].append([y1, y2, y3, y4, y5])\n",
    "    dic2_y[key] = pd.DataFrame(dic2_y[key], columns=[\"y1\", \"y2\", \"y3\", \"y4\", \"y5\"])\n",
    "    #break"
   ]
  },
  {
   "cell_type": "code",
   "execution_count": 25,
   "id": "2a1a08ae",
   "metadata": {},
   "outputs": [],
   "source": [
    "X_feature = []\n",
    "X_target = []\n",
    "Y_feature = []\n",
    "Y_target = []"
   ]
  },
  {
   "cell_type": "markdown",
   "id": "a6a0eb74",
   "metadata": {},
   "source": [
    "# Differentiate between features and targets"
   ]
  },
  {
   "cell_type": "code",
   "execution_count": 26,
   "id": "d02cc287",
   "metadata": {},
   "outputs": [],
   "source": [
    "for key in dic2_x:\n",
    "    feature_x = dic2_x[key][[\"x1\", \"x2\", \"x3\", \"x4\"]]\n",
    "    target_x = dic2_x[key][[\"x5\"]]\n",
    "    for i in range(len(feature_x)):\n",
    "        X_feature.append(np.array([feature_x.iloc[i][0], feature_x.iloc[i][1], feature_x.iloc[i][2], feature_x.iloc[i][3]]).ravel())\n",
    "        X_target.append(np.array([target_x.iloc[i][0]]))"
   ]
  },
  {
   "cell_type": "code",
   "execution_count": 27,
   "id": "8af9ac75",
   "metadata": {},
   "outputs": [],
   "source": [
    "for key in dic2_y:\n",
    "    feature_y = dic2_y[key][[\"y1\", \"y2\", \"y3\", \"y4\"]]\n",
    "    target_y = dic2_y[key][[\"y5\"]]\n",
    "    for i in range(len(feature_y)):\n",
    "        Y_feature.append(np.array([feature_y.iloc[i][0], feature_y.iloc[i][1], feature_y.iloc[i][2], feature_y.iloc[i][3]]).ravel())\n",
    "        Y_target.append(np.array([target_y.iloc[i][0]]))"
   ]
  },
  {
   "cell_type": "code",
   "execution_count": 28,
   "id": "38c90196",
   "metadata": {},
   "outputs": [
    {
     "data": {
      "text/plain": [
       "406.0"
      ]
     },
     "execution_count": 28,
     "metadata": {},
     "output_type": "execute_result"
    }
   ],
   "source": [
    "target_y.iloc[0][0]"
   ]
  },
  {
   "cell_type": "markdown",
   "id": "e3621742",
   "metadata": {},
   "source": [
    "# Transforming our data into numpy arrays"
   ]
  },
  {
   "cell_type": "code",
   "execution_count": null,
   "id": "1b1325b6",
   "metadata": {},
   "outputs": [],
   "source": [
    "X_feature = np.array(X_feature)\n",
    "Y_feature = np.array(Y_feature)"
   ]
  },
  {
   "cell_type": "code",
   "execution_count": 32,
   "id": "bac653c0",
   "metadata": {},
   "outputs": [
    {
     "data": {
      "text/plain": [
       "array([[276., 267., 260., 252.],\n",
       "       [236., 226., 217., 207.],\n",
       "       [185., 172., 158., 143.],\n",
       "       ...,\n",
       "       [729., 728., 728., 726.],\n",
       "       [677., 677., 677., 673.],\n",
       "       [671., 672., 671., 670.]])"
      ]
     },
     "execution_count": 32,
     "metadata": {},
     "output_type": "execute_result"
    }
   ],
   "source": [
    "X_feature"
   ]
  },
  {
   "cell_type": "code",
   "execution_count": 33,
   "id": "423b875e",
   "metadata": {},
   "outputs": [],
   "source": [
    "X_target=np.array(X_target)\n",
    "Y_target=np.array(Y_target)"
   ]
  },
  {
   "cell_type": "markdown",
   "id": "1eb53d5f",
   "metadata": {},
   "source": [
    "# Split data"
   ]
  },
  {
   "cell_type": "code",
   "execution_count": 35,
   "id": "c44989fe",
   "metadata": {},
   "outputs": [],
   "source": [
    "from sklearn.model_selection import train_test_split"
   ]
  },
  {
   "cell_type": "code",
   "execution_count": 36,
   "id": "0fcf5c84",
   "metadata": {},
   "outputs": [],
   "source": [
    "Xfeature_train, Xfeature_test, xtarget_train, xtarget_test = train_test_split(X_feature , X_target, test_size=0.3, random_state=0)"
   ]
  },
  {
   "cell_type": "code",
   "execution_count": 37,
   "id": "a0d487fc",
   "metadata": {},
   "outputs": [],
   "source": [
    "Yfeature_train, Yfeature_test, ytarget_train, ytarget_test = train_test_split(Y_feature , Y_target, test_size=0.3, random_state=0)"
   ]
  },
  {
   "cell_type": "markdown",
   "id": "2338a3c0",
   "metadata": {},
   "source": [
    "# Linear regression model"
   ]
  },
  {
   "cell_type": "code",
   "execution_count": 38,
   "id": "7565714e",
   "metadata": {},
   "outputs": [],
   "source": [
    "from sklearn.linear_model import LinearRegression"
   ]
  },
  {
   "cell_type": "code",
   "execution_count": 39,
   "id": "40407e3d",
   "metadata": {},
   "outputs": [],
   "source": [
    "model_reglin_X = LinearRegression()"
   ]
  },
  {
   "cell_type": "code",
   "execution_count": 40,
   "id": "e678efb0",
   "metadata": {},
   "outputs": [],
   "source": [
    "model_reglin_Y = LinearRegression()"
   ]
  },
  {
   "cell_type": "code",
   "execution_count": 41,
   "id": "fbc21e62",
   "metadata": {},
   "outputs": [
    {
     "data": {
      "text/plain": [
       "LinearRegression()"
      ]
     },
     "execution_count": 41,
     "metadata": {},
     "output_type": "execute_result"
    }
   ],
   "source": [
    "model_reglin_Y.fit(Yfeature_train, ytarget_train)"
   ]
  },
  {
   "cell_type": "code",
   "execution_count": 42,
   "id": "978f00ae",
   "metadata": {},
   "outputs": [
    {
     "name": "stdout",
     "output_type": "stream",
     "text": [
      "test score = 0.99, train score = 1.00\n"
     ]
    }
   ],
   "source": [
    "print('test score = %0.2f, train score = %0.2f' %(model_reglin_Y.score(Yfeature_test, ytarget_test), model_reglin_Y.score(Yfeature_train, ytarget_train)))"
   ]
  },
  {
   "cell_type": "code",
   "execution_count": 43,
   "id": "bd8c3ce4",
   "metadata": {},
   "outputs": [],
   "source": [
    "y_pred_lin = model_reglin_Y.predict(Yfeature_test)"
   ]
  },
  {
   "cell_type": "code",
   "execution_count": 47,
   "id": "2c7441bd",
   "metadata": {},
   "outputs": [
    {
     "data": {
      "text/plain": [
       "Text(0, 0.5, 'y_test')"
      ]
     },
     "execution_count": 47,
     "metadata": {},
     "output_type": "execute_result"
    },
    {
     "data": {
      "image/png": "[encoded data removed]",
      "text/plain": [
       "<Figure size 432x288 with 1 Axes>"
      ]
     },
     "metadata": {
      "needs_background": "light"
     },
     "output_type": "display_data"
    }
   ],
   "source": [
    "plt.scatter(y_pred_lin, ytarget_test)\n",
    "plt.xlabel('y_pred')\n",
    "plt.ylabel('y_test')"
   ]
  },
  {
   "cell_type": "code",
   "execution_count": 49,
   "id": "928571df",
   "metadata": {},
   "outputs": [
    {
     "data": {
      "text/plain": [
       "LinearRegression()"
      ]
     },
     "execution_count": 49,
     "metadata": {},
     "output_type": "execute_result"
    }
   ],
   "source": [
    "model_reglin_X.fit(Xfeature_train, xtarget_train)"
   ]
  },
  {
   "cell_type": "code",
   "execution_count": 50,
   "id": "817ceb6e",
   "metadata": {},
   "outputs": [
    {
     "name": "stdout",
     "output_type": "stream",
     "text": [
      "test score = 1.00, train score = 1.00\n"
     ]
    }
   ],
   "source": [
    "print('test score = %0.2f, train score = %0.2f' %(model_reglin_X.score(Xfeature_test,xtarget_test), model_reglin_X.score(Xfeature_train,xtarget_train)))"
   ]
  },
  {
   "cell_type": "code",
   "execution_count": 51,
   "id": "e06f9405",
   "metadata": {},
   "outputs": [],
   "source": [
    "x_pred_lin = model_reglin_X.predict(Xfeature_test)"
   ]
  },
  {
   "cell_type": "code",
   "execution_count": 134,
   "id": "1db19618",
   "metadata": {},
   "outputs": [],
   "source": [
    "l = [[x1, x2, x3, x4]]"
   ]
  },
  {
   "cell_type": "code",
   "execution_count": 135,
   "id": "9aa45a75",
   "metadata": {},
   "outputs": [
    {
     "data": {
      "text/plain": [
       "[[671.0, 672.0, 671.0, 670.0]]"
      ]
     },
     "execution_count": 135,
     "metadata": {},
     "output_type": "execute_result"
    }
   ],
   "source": [
    "l"
   ]
  },
  {
   "cell_type": "code",
   "execution_count": 136,
   "id": "c10ac144",
   "metadata": {},
   "outputs": [
    {
     "data": {
      "text/plain": [
       "list"
      ]
     },
     "execution_count": 136,
     "metadata": {},
     "output_type": "execute_result"
    }
   ],
   "source": [
    "type(l)"
   ]
  },
  {
   "cell_type": "code",
   "execution_count": 137,
   "id": "dfaec231",
   "metadata": {},
   "outputs": [],
   "source": [
    "l = np.array(l)"
   ]
  },
  {
   "cell_type": "code",
   "execution_count": 138,
   "id": "42efbf0d",
   "metadata": {},
   "outputs": [
    {
     "data": {
      "text/plain": [
       "array([[671., 672., 671., 670.]])"
      ]
     },
     "execution_count": 138,
     "metadata": {},
     "output_type": "execute_result"
    }
   ],
   "source": [
    "l"
   ]
  },
  {
   "cell_type": "code",
   "execution_count": 139,
   "id": "efe4fa2f",
   "metadata": {},
   "outputs": [
    {
     "data": {
      "text/plain": [
       "(1, 4)"
      ]
     },
     "execution_count": 139,
     "metadata": {},
     "output_type": "execute_result"
    }
   ],
   "source": [
    "l.shape"
   ]
  },
  {
   "cell_type": "code",
   "execution_count": 133,
   "id": "2f848236",
   "metadata": {},
   "outputs": [],
   "source": [
    "l = l.reshape(4,)"
   ]
  },
  {
   "cell_type": "code",
   "execution_count": 124,
   "id": "4e68b42a",
   "metadata": {},
   "outputs": [
    {
     "data": {
      "text/plain": [
       "array([[671.],\n",
       "       [672.],\n",
       "       [671.],\n",
       "       [670.]])"
      ]
     },
     "execution_count": 124,
     "metadata": {},
     "output_type": "execute_result"
    }
   ],
   "source": [
    "l"
   ]
  },
  {
   "cell_type": "code",
   "execution_count": 140,
   "id": "c38b9e05",
   "metadata": {},
   "outputs": [],
   "source": [
    "f = reglin_X.predict(l)"
   ]
  },
  {
   "cell_type": "code",
   "execution_count": 141,
   "id": "7c69cf30",
   "metadata": {},
   "outputs": [
    {
     "data": {
      "text/plain": [
       "array([[668.67334942]])"
      ]
     },
     "execution_count": 141,
     "metadata": {},
     "output_type": "execute_result"
    }
   ],
   "source": [
    "f"
   ]
  },
  {
   "cell_type": "code",
   "execution_count": 52,
   "id": "d8cd1c29",
   "metadata": {},
   "outputs": [
    {
     "data": {
      "text/plain": [
       "Text(0, 0.5, 'x_test')"
      ]
     },
     "execution_count": 52,
     "metadata": {},
     "output_type": "execute_result"
    },
    {
     "data": {
      "image/png": "[encoded data removed]",
      "text/plain": [
       "<Figure size 432x288 with 1 Axes>"
      ]
     },
     "metadata": {
      "needs_background": "light"
     },
     "output_type": "display_data"
    }
   ],
   "source": [
    "plt.scatter(x_pred_lin, xtarget_test)\n",
    "plt.xlabel('x_pred')\n",
    "plt.ylabel('x_test')"
   ]
  },
  {
   "cell_type": "markdown",
   "id": "c0d8efef",
   "metadata": {},
   "source": [
    "# Saving the linear regression model"
   ]
  },
  {
   "cell_type": "code",
   "execution_count": 13,
   "id": "b862def2",
   "metadata": {},
   "outputs": [],
   "source": [
    "import pickle"
   ]
  },
  {
   "cell_type": "code",
   "execution_count": 80,
   "id": "36918525",
   "metadata": {},
   "outputs": [],
   "source": [
    "filename_x = 'reglin_x.sav'\n",
    "pickle.dump(model_reglin_X, open(filename_x, 'wb'))"
   ]
  },
  {
   "cell_type": "code",
   "execution_count": 81,
   "id": "1a15b9f9",
   "metadata": {},
   "outputs": [],
   "source": [
    "filename_y = 'reglin_y.sav'\n",
    "pickle.dump(model_reglin_Y, open(filename_y, 'wb'))"
   ]
  },
  {
   "cell_type": "code",
   "execution_count": 14,
   "id": "eb647bd3",
   "metadata": {},
   "outputs": [],
   "source": [
    "with open('reglin_x.sav', 'rb') as file:  \n",
    "    reglin_X = pickle.load(file)"
   ]
  },
  {
   "cell_type": "code",
   "execution_count": 15,
   "id": "39231b05",
   "metadata": {},
   "outputs": [],
   "source": [
    "with open('reglin_y.sav', 'rb') as file:  \n",
    "    reglin_Y = pickle.load(file)"
   ]
  },
  {
   "cell_type": "markdown",
   "id": "6c510488",
   "metadata": {},
   "source": [
    "# Support Vector Regressor model"
   ]
  },
  {
   "cell_type": "code",
   "execution_count": 53,
   "id": "aaa4d675",
   "metadata": {},
   "outputs": [],
   "source": [
    "from sklearn.svm import SVR"
   ]
  },
  {
   "cell_type": "code",
   "execution_count": 54,
   "id": "49342b64",
   "metadata": {},
   "outputs": [],
   "source": [
    "lin_svr_X = SVR(kernel='linear', C=1)"
   ]
  },
  {
   "cell_type": "code",
   "execution_count": 55,
   "id": "dab4461d",
   "metadata": {},
   "outputs": [
    {
     "name": "stderr",
     "output_type": "stream",
     "text": [
      "C:\\Users\\Yassi\\anaconda3\\envs\\tf\\lib\\site-packages\\sklearn\\utils\\validation.py:63: DataConversionWarning: A column-vector y was passed when a 1d array was expected. Please change the shape of y to (n_samples, ), for example using ravel().\n",
      "  return f(*args, **kwargs)\n"
     ]
    },
    {
     "data": {
      "text/plain": [
       "SVR(C=1, kernel='linear')"
      ]
     },
     "execution_count": 55,
     "metadata": {},
     "output_type": "execute_result"
    }
   ],
   "source": [
    "lin_svr_X.fit(Xfeature_train, xtarget_train)"
   ]
  },
  {
   "cell_type": "code",
   "execution_count": 56,
   "id": "5bbb56a0",
   "metadata": {},
   "outputs": [
    {
     "name": "stdout",
     "output_type": "stream",
     "text": [
      "test score = 1.00, train score = 1.00\n"
     ]
    }
   ],
   "source": [
    "print('test score = %0.2f, train score = %0.2f' %(lin_svr_X.score(Xfeature_test,xtarget_test), lin_svr_X.score(Xfeature_train,xtarget_train)))"
   ]
  },
  {
   "cell_type": "code",
   "execution_count": 57,
   "id": "500175df",
   "metadata": {},
   "outputs": [],
   "source": [
    "x_pred_svr = lin_svr_X.predict(Xfeature_test)"
   ]
  },
  {
   "cell_type": "code",
   "execution_count": 58,
   "id": "c44ac15e",
   "metadata": {},
   "outputs": [
    {
     "data": {
      "text/plain": [
       "Text(0, 0.5, 'x_test')"
      ]
     },
     "execution_count": 58,
     "metadata": {},
     "output_type": "execute_result"
    },
    {
     "data": {
      "image/png": "[encoded data removed]",
      "text/plain": [
       "<Figure size 432x288 with 1 Axes>"
      ]
     },
     "metadata": {
      "needs_background": "light"
     },
     "output_type": "display_data"
    }
   ],
   "source": [
    "plt.scatter(x_pred_svr, xtarget_test)\n",
    "plt.xlabel('x_pred')\n",
    "plt.ylabel('x_test')"
   ]
  },
  {
   "cell_type": "code",
   "execution_count": 59,
   "id": "44aa29f9",
   "metadata": {},
   "outputs": [],
   "source": [
    "lin_svr_Y = SVR(kernel='linear', C=1)"
   ]
  },
  {
   "cell_type": "code",
   "execution_count": 60,
   "id": "3271c13b",
   "metadata": {},
   "outputs": [
    {
     "name": "stderr",
     "output_type": "stream",
     "text": [
      "C:\\Users\\Yassi\\anaconda3\\envs\\tf\\lib\\site-packages\\sklearn\\utils\\validation.py:63: DataConversionWarning: A column-vector y was passed when a 1d array was expected. Please change the shape of y to (n_samples, ), for example using ravel().\n",
      "  return f(*args, **kwargs)\n"
     ]
    },
    {
     "data": {
      "text/plain": [
       "SVR(C=1, kernel='linear')"
      ]
     },
     "execution_count": 60,
     "metadata": {},
     "output_type": "execute_result"
    }
   ],
   "source": [
    "lin_svr_Y.fit(Yfeature_train, ytarget_train)"
   ]
  },
  {
   "cell_type": "code",
   "execution_count": 61,
   "id": "16075c22",
   "metadata": {},
   "outputs": [
    {
     "name": "stdout",
     "output_type": "stream",
     "text": [
      "test score = 0.99, train score = 1.00\n"
     ]
    }
   ],
   "source": [
    "print('test score = %0.2f, train score = %0.2f' %(lin_svr_Y.score(Yfeature_test,ytarget_test), lin_svr_Y.score(Yfeature_train,ytarget_train)))"
   ]
  },
  {
   "cell_type": "code",
   "execution_count": 71,
   "id": "be278aaf",
   "metadata": {},
   "outputs": [],
   "source": [
    "Y_pred_svr = lin_svr_Y.predict(Yfeature_test)"
   ]
  },
  {
   "cell_type": "code",
   "execution_count": 72,
   "id": "c9e1827c",
   "metadata": {},
   "outputs": [
    {
     "data": {
      "text/plain": [
       "Text(0, 0.5, 'Y_test')"
      ]
     },
     "execution_count": 72,
     "metadata": {},
     "output_type": "execute_result"
    },
    {
     "data": {
      "image/png": "[encoded data removed]",
      "text/plain": [
       "<Figure size 432x288 with 1 Axes>"
      ]
     },
     "metadata": {
      "needs_background": "light"
     },
     "output_type": "display_data"
    }
   ],
   "source": [
    "plt.scatter(Y_pred_svr, ytarget_test)\n",
    "plt.xlabel('Y_pred')\n",
    "plt.ylabel('Y_test')"
   ]
  },
  {
   "cell_type": "markdown",
   "id": "f04c46d0",
   "metadata": {},
   "source": [
    "# MLP Regressor"
   ]
  },
  {
   "cell_type": "code",
   "execution_count": 64,
   "id": "b8d6b5f3",
   "metadata": {},
   "outputs": [],
   "source": [
    "from sklearn.neural_network import MLPRegressor"
   ]
  },
  {
   "cell_type": "code",
   "execution_count": 65,
   "id": "1a91fb41",
   "metadata": {},
   "outputs": [],
   "source": [
    "regr_X = MLPRegressor(hidden_layer_sizes=[10,10,10], random_state=1, solver='lbfgs',max_iter=500)"
   ]
  },
  {
   "cell_type": "code",
   "execution_count": 66,
   "id": "5d00f409",
   "metadata": {},
   "outputs": [
    {
     "name": "stderr",
     "output_type": "stream",
     "text": [
      "C:\\Users\\Yassi\\anaconda3\\envs\\tf\\lib\\site-packages\\sklearn\\utils\\validation.py:63: DataConversionWarning: A column-vector y was passed when a 1d array was expected. Please change the shape of y to (n_samples, ), for example using ravel().\n",
      "  return f(*args, **kwargs)\n",
      "C:\\Users\\Yassi\\anaconda3\\envs\\tf\\lib\\site-packages\\sklearn\\neural_network\\_multilayer_perceptron.py:500: ConvergenceWarning: lbfgs failed to converge (status=1):\n",
      "STOP: TOTAL NO. of ITERATIONS REACHED LIMIT.\n",
      "\n",
      "Increase the number of iterations (max_iter) or scale the data as shown in:\n",
      "    https://scikit-learn.org/stable/modules/preprocessing.html\n",
      "  self.n_iter_ = _check_optimize_result(\"lbfgs\", opt_res, self.max_iter)\n"
     ]
    },
    {
     "data": {
      "text/plain": [
       "MLPRegressor(hidden_layer_sizes=[10, 10, 10], max_iter=500, random_state=1,\n",
       "             solver='lbfgs')"
      ]
     },
     "execution_count": 66,
     "metadata": {},
     "output_type": "execute_result"
    }
   ],
   "source": [
    "regr_X.fit(Xfeature_train, xtarget_train)"
   ]
  },
  {
   "cell_type": "code",
   "execution_count": 67,
   "id": "6abd5eb8",
   "metadata": {},
   "outputs": [
    {
     "name": "stdout",
     "output_type": "stream",
     "text": [
      "test score = 1.00, train score = 1.00\n"
     ]
    }
   ],
   "source": [
    "print('test score = %0.2f, train score = %0.2f' %(regr_X.score(Xfeature_test,xtarget_test), regr_X.score(Xfeature_train,xtarget_train)))"
   ]
  },
  {
   "cell_type": "code",
   "execution_count": 73,
   "id": "40e27230",
   "metadata": {},
   "outputs": [],
   "source": [
    "X_pred_MLP = regr_X.predict(Xfeature_test)"
   ]
  },
  {
   "cell_type": "code",
   "execution_count": 74,
   "id": "ce3b5766",
   "metadata": {},
   "outputs": [
    {
     "data": {
      "text/plain": [
       "Text(0, 0.5, 'x_test')"
      ]
     },
     "execution_count": 74,
     "metadata": {},
     "output_type": "execute_result"
    },
    {
     "data": {
      "image/png": "[encoded data removed]",
      "text/plain": [
       "<Figure size 432x288 with 1 Axes>"
      ]
     },
     "metadata": {
      "needs_background": "light"
     },
     "output_type": "display_data"
    }
   ],
   "source": [
    "plt.scatter(X_pred_MLP, xtarget_test)\n",
    "plt.xlabel('x_pred')\n",
    "plt.ylabel('x_test')"
   ]
  },
  {
   "cell_type": "code",
   "execution_count": 68,
   "id": "32619551",
   "metadata": {},
   "outputs": [],
   "source": [
    "regr_Y = MLPRegressor(hidden_layer_sizes=[10,10,10], random_state=1, solver='lbfgs',max_iter=500)"
   ]
  },
  {
   "cell_type": "code",
   "execution_count": 69,
   "id": "467a43ab",
   "metadata": {},
   "outputs": [
    {
     "name": "stderr",
     "output_type": "stream",
     "text": [
      "C:\\Users\\Yassi\\anaconda3\\envs\\tf\\lib\\site-packages\\sklearn\\utils\\validation.py:63: DataConversionWarning: A column-vector y was passed when a 1d array was expected. Please change the shape of y to (n_samples, ), for example using ravel().\n",
      "  return f(*args, **kwargs)\n"
     ]
    },
    {
     "data": {
      "text/plain": [
       "MLPRegressor(hidden_layer_sizes=[10, 10, 10], max_iter=500, random_state=1,\n",
       "             solver='lbfgs')"
      ]
     },
     "execution_count": 69,
     "metadata": {},
     "output_type": "execute_result"
    }
   ],
   "source": [
    "regr_Y.fit(Yfeature_train, ytarget_train) "
   ]
  },
  {
   "cell_type": "code",
   "execution_count": 70,
   "id": "303f31e4",
   "metadata": {},
   "outputs": [
    {
     "name": "stdout",
     "output_type": "stream",
     "text": [
      "test score = 0.99, train score = 1.00\n"
     ]
    }
   ],
   "source": [
    "print('test score = %0.2f, train score = %0.2f' %(regr_Y.score(Yfeature_test,ytarget_test), regr_Y.score(Yfeature_train,ytarget_train)))"
   ]
  },
  {
   "cell_type": "code",
   "execution_count": 75,
   "id": "e15cef21",
   "metadata": {},
   "outputs": [],
   "source": [
    "Y_pred_MLP = regr_Y.predict(Yfeature_test)"
   ]
  },
  {
   "cell_type": "code",
   "execution_count": 76,
   "id": "23643167",
   "metadata": {},
   "outputs": [
    {
     "data": {
      "text/plain": [
       "Text(0, 0.5, 'y_test')"
      ]
     },
     "execution_count": 76,
     "metadata": {},
     "output_type": "execute_result"
    },
    {
     "data": {
      "image/png": "[encoded data removed]",
      "text/plain": [
       "<Figure size 432x288 with 1 Axes>"
      ]
     },
     "metadata": {
      "needs_background": "light"
     },
     "output_type": "display_data"
    }
   ],
   "source": [
    "plt.scatter(Y_pred_MLP, ytarget_test)\n",
    "plt.xlabel('y_pred')\n",
    "plt.ylabel('y_test')"
   ]
  },
  {
   "cell_type": "markdown",
   "id": "708b2441",
   "metadata": {},
   "source": [
    "# Real-time prediction"
   ]
  },
  {
   "cell_type": "code",
   "execution_count": 16,
   "id": "264480ad",
   "metadata": {},
   "outputs": [],
   "source": [
    "counter = []\n",
    "k=0\n",
    "idd = []\n",
    "allcenters = []\n",
    "centers = []\n",
    "centers_x = []\n",
    "centers_y = []\n",
    "feature_x = []\n",
    "target_x = []\n",
    "feature_y = []\n",
    "target_y = []\n",
    "dic_x = dict()\n",
    "dic_y = dict()\n",
    "dic2_x=dict()\n",
    "dic2_y=dict()\n",
    "dicc_x=dict()\n",
    "dicc_y=dict()\n",
    "n=0\n",
    "couleur = (0,255,0)"
   ]
  },
  {
   "cell_type": "code",
   "execution_count": 18,
   "id": "7514a8e9",
   "metadata": {},
   "outputs": [],
   "source": [
    "vid = cv2.VideoCapture('./data/video/project_video.mp4')"
   ]
  },
  {
   "cell_type": "code",
   "execution_count": null,
   "id": "7992118c",
   "metadata": {},
   "outputs": [],
   "source": [
    "while True:\n",
    "    _, img = vid.read()\n",
    "    if img is None:\n",
    "        print('Completed')\n",
    "        break\n",
    "\n",
    "    img_in = cv2.cvtColor(img, cv2.COLOR_BGR2RGB)\n",
    "    img_in = tf.expand_dims(img_in, 0)\n",
    "    img_in = transform_images(img_in, 416)\n",
    "\n",
    "    t1 = time.time()\n",
    "\n",
    "    boxes, scores, classes, nums = yolo.predict(img_in)\n",
    "\n",
    "    classes = classes[0]\n",
    "    names = []\n",
    "    for i in range(len(classes)):\n",
    "        names.append(class_names[int(classes[i])])\n",
    "    names = np.array(names)\n",
    "    converted_boxes = convert_boxes(img, boxes[0])\n",
    "    features = encoder(img, converted_boxes)\n",
    "\n",
    "    detections = [Detection(bbox, score, class_name, feature) for bbox, score, class_name, feature in\n",
    "                  zip(converted_boxes, scores[0], names, features)]\n",
    "\n",
    "    boxs = np.array([d.tlwh for d in detections])\n",
    "    scores = np.array([d.confidence for d in detections])\n",
    "    classes = np.array([d.class_name for d in detections])\n",
    "    indices = preprocessing.non_max_suppression(boxs, classes, nms_max_overlap, scores)\n",
    "    detections = [detections[i] for i in indices]\n",
    "\n",
    "    tracker.predict()\n",
    "    tracker.update(detections)\n",
    "\n",
    "    cmap = plt.get_cmap('tab20b')\n",
    "    colors = [cmap(i)[:3] for i in np.linspace(0,1,20)]\n",
    "\n",
    "    current_count = int(0)\n",
    "    #centers = []\n",
    "    for track in tracker.tracks:\n",
    "        if not track.is_confirmed() or track.time_since_update >1:\n",
    "            continue\n",
    "        bbox = track.to_tlbr()\n",
    "        class_name= track.get_class()\n",
    "        color = colors[int(track.track_id) % len(colors)]\n",
    "        color = [i * 255 for i in color]\n",
    "\n",
    "        cv2.rectangle(img, (int(bbox[0]),int(bbox[1])), (int(bbox[2]),int(bbox[3])), color, 2)\n",
    "        cv2.rectangle(img, (int(bbox[0]), int(bbox[1]-30)), (int(bbox[0])+(len(class_name)\n",
    "                    +len(str(track.track_id)))*17, int(bbox[1])), color, -1)\n",
    "        cv2.putText(img, class_name+\"-\"+str(track.track_id), (int(bbox[0]), int(bbox[1]-10)), 0, 0.75,\n",
    "                    (255, 255, 255), 2)\n",
    "\n",
    "        k=k+1\n",
    "        x = int(((bbox[0]) + (bbox[2]))/2)\n",
    "        y = int(((bbox[1])+(bbox[3]))/2)\n",
    "        x = float(x)\n",
    "        y = float(y)\n",
    "        center = [x, y]\n",
    "        #center = np.array(center)\n",
    "        #pts[track.track_id].append(center)\n",
    "        centers.append([center, k, track.track_id])\n",
    "        centers_x.append([x, k, track.track_id])\n",
    "        centers_y.append([y, k, track.track_id])\n",
    "        idd.append(track.track_id)\n",
    "        if k == 1:\n",
    "            dff_x = pd.DataFrame(centers_x, columns=[\"x\", \"temps\", \"index\"])\n",
    "            dff_y = pd.DataFrame(centers_y, columns=[\"y\", \"temps\", \"index\"])\n",
    "            dff_x = dff_x.drop(columns=['temps'])\n",
    "            dff_y = dff_y.drop(columns=['temps'])\n",
    "            \n",
    "        else:\n",
    "            dfff_x = pd.DataFrame(centers_x, columns=[\"x\", \"temps\", \"index\"])\n",
    "            dfff_y = pd.DataFrame(centers_y, columns=[\"y\", \"temps\", \"index\"])\n",
    "            dfff_x = dfff_x.drop(columns=['temps'])\n",
    "            dfff_y = dfff_y.drop(columns=['temps'])\n",
    "            dff_x = pd.concat([dff_x, dfff_x], axis=0)\n",
    "            dff_y = pd.concat([dff_y, dfff_y], axis=0)\n",
    "        for x in dff_x['index'].unique():\n",
    "            dic_x[x]= dff_x[dff_x['index']==x]\n",
    "            dicc_x[x] = dic_x[x]\n",
    "            dic_x[x] = dic_x[x].values.tolist()\n",
    "        for y in dff_y['index'].unique():\n",
    "            dic_y[y]= dff_y[dff_y['index']==y]\n",
    "            dicc_y[y] = dic_y[y]\n",
    "            dic_y[y] = dic_y[y].values.tolist()\n",
    "        for key in dicc_x:\n",
    "            n=0\n",
    "            for j in range(len(dicc_x[key])):\n",
    "                n=n+1\n",
    "                if n < len(dicc_x[key])-1:\n",
    "                    if n>=3:\n",
    "                        dic2_x[key]=list()\n",
    "                        x1 = dic_x[key][n-3][0]\n",
    "                        x2 = dic_x[key][n-2][0]\n",
    "                        x3 = dic_x[key][n-1][0]\n",
    "                        x4 = dic_x[key][n][0]\n",
    "                        x1 = int(x1)\n",
    "                        x2 = int(x2)\n",
    "                        x3 = int(x3)\n",
    "                        x4 = int(x4)\n",
    "                        l_x = [[x1, x2, x3, x4]]\n",
    "                        l_x = np.array(l_x)\n",
    "                        x_pred = reglin_X.predict(l_x)\n",
    "                        x_pred = int(x_pred)\n",
    "                        y1 = dic_y[key][n-3][0]\n",
    "                        y2 = dic_y[key][n-2][0]\n",
    "                        y3 = dic_y[key][n-1][0]\n",
    "                        y4 = dic_y[key][n][0]\n",
    "                        y1 = int(y1)\n",
    "                        y2 = int(y2)\n",
    "                        y3 = int(y3)\n",
    "                        y4 = int(y4)\n",
    "                        l_y = [[y1, y2, y3, y4]]\n",
    "                        l_y = np.array(l_y)\n",
    "                        y_pred = reglin_Y.predict(l_y)\n",
    "                        y_pred = int(y_pred)\n",
    "                        cv2.line(img, (x4, y4), (x_pred, y_pred) , (0, 255, 0) , thickness=2)\n",
    "                    \n",
    "                #cv2.line(img, x4, x_pred, color, thickness)\n",
    "        #for key in dicc_y:\n",
    "         #   n=0\n",
    "          #  for j in range(len(dicc_y[key])):\n",
    "           #     n=n+1\n",
    "            #    if n < len(dicc_x[key])-1:\n",
    "             #       if n>=3:\n",
    "              #          dic2_y[key]=list()\n",
    "               #         y1 = dic_y[key][n-3][0]\n",
    "               #         y2 = dic_y[key][n-2][0]\n",
    "                #        y3 = dic_y[key][n-1][0]\n",
    "                 #       y4 = dic_y[key][n][0]\n",
    "                  #      y1 = int(y1)\n",
    "       #                 y2 = int(y2)\n",
    "        #                y3 = int(y3)\n",
    "         #               y4 = int(y4)\n",
    "          #              l_y = [[y1, y2, y3, y4]]\n",
    "           #             l_y = np.array(l_y)\n",
    "            #            y_pred = reglin_Y.predict(l_y)\n",
    "             #           y_pred = int(y_pred)\n",
    "              #          cv2.line(img, (x4, y4), (x_pred, y_pred) , (0, 255, 0) , thickness=2)\n",
    "        \n",
    "        #print(centers)\n",
    "        \n",
    "\n",
    "        for j in range(1, len(pts[track.track_id])):\n",
    "            if pts[track.track_id][j-1] is None or pts[track.track_id][j] is None:\n",
    "                continue\n",
    "            thickness = int(np.sqrt(64/float(j+1))*2)\n",
    "            cv2.line(img, (pts[track.track_id][j-1]), (pts[track.track_id][j]), color, thickness)\n",
    "\n",
    "        height, width, _ = img.shape\n",
    "        cv2.line(img, (0, int(3*height/6+height/20)), (width, int(3*height/6+height/20)), (0, 255, 0), thickness=2)\n",
    "        cv2.line(img, (0, int(3*height/6-height/20)), (width, int(3*height/6-height/20)), (0, 255, 0), thickness=2)\n",
    "\n",
    "        center_y = int(((bbox[1])+(bbox[3]))/2)\n",
    "\n",
    "        if center_y <= int(3*height/6+height/20) and center_y >= int(3*height/6-height/20):\n",
    "            if class_name == 'car' or class_name == 'truck':\n",
    "                counter.append(int(track.track_id))\n",
    "                current_count += 1\n",
    "    #allcenters.append(centers)\n",
    "\n",
    "    total_count = len(set(counter))\n",
    "    cv2.putText(img, \"Current Vehicle Count: \" + str(current_count), (0, 80), 0, 1, (0, 0, 255), 2)\n",
    "    cv2.putText(img, \"Total Vehicle Count: \" + str(total_count), (0,130), 0, 1, (0,0,255), 2)\n",
    "\n",
    "    fps = 1./(time.time()-t1)\n",
    "    cv2.putText(img, \"FPS: {:.2f}\".format(fps), (0,30), 0, 1, (0,0,255), 2)\n",
    "    cv2.resizeWindow('output', 1024, 768)\n",
    "    cv2.imshow('output', img)\n",
    "    out.write(img)\n",
    "\n",
    "    if cv2.waitKey(1) == ord('q'):\n",
    "        break\n",
    "vid.release()\n",
    "out.release()\n",
    "cv2.destroyAllWindows()"
   ]
  },
  {
   "cell_type": "code",
   "execution_count": 37,
   "id": "8c60a936",
   "metadata": {},
   "outputs": [
    {
     "data": {
      "text/html": [
       "<div>\n",
       "<style scoped>\n",
       "    .dataframe tbody tr th:only-of-type {\n",
       "        vertical-align: middle;\n",
       "    }\n",
       "\n",
       "    .dataframe tbody tr th {\n",
       "        vertical-align: top;\n",
       "    }\n",
       "\n",
       "    .dataframe thead th {\n",
       "        text-align: right;\n",
       "    }\n",
       "</style>\n",
       "<table border=\"1\" class=\"dataframe\">\n",
       "  <thead>\n",
       "    <tr style=\"text-align: right;\">\n",
       "      <th></th>\n",
       "      <th>x</th>\n",
       "      <th>index</th>\n",
       "      <th>y</th>\n",
       "    </tr>\n",
       "  </thead>\n",
       "  <tbody>\n",
       "    <tr>\n",
       "      <th>0</th>\n",
       "      <td>276.0</td>\n",
       "      <td>6</td>\n",
       "      <td>NaN</td>\n",
       "    </tr>\n",
       "    <tr>\n",
       "      <th>0</th>\n",
       "      <td>NaN</td>\n",
       "      <td>6</td>\n",
       "      <td>427.0</td>\n",
       "    </tr>\n",
       "    <tr>\n",
       "      <th>1</th>\n",
       "      <td>NaN</td>\n",
       "      <td>6</td>\n",
       "      <td>427.0</td>\n",
       "    </tr>\n",
       "    <tr>\n",
       "      <th>0</th>\n",
       "      <td>NaN</td>\n",
       "      <td>6</td>\n",
       "      <td>427.0</td>\n",
       "    </tr>\n",
       "    <tr>\n",
       "      <th>1</th>\n",
       "      <td>NaN</td>\n",
       "      <td>6</td>\n",
       "      <td>427.0</td>\n",
       "    </tr>\n",
       "    <tr>\n",
       "      <th>0</th>\n",
       "      <td>NaN</td>\n",
       "      <td>6</td>\n",
       "      <td>427.0</td>\n",
       "    </tr>\n",
       "    <tr>\n",
       "      <th>1</th>\n",
       "      <td>NaN</td>\n",
       "      <td>6</td>\n",
       "      <td>427.0</td>\n",
       "    </tr>\n",
       "  </tbody>\n",
       "</table>\n",
       "</div>"
      ],
      "text/plain": [
       "       x  index      y\n",
       "0  276.0      6    NaN\n",
       "0    NaN      6  427.0\n",
       "1    NaN      6  427.0\n",
       "0    NaN      6  427.0\n",
       "1    NaN      6  427.0\n",
       "0    NaN      6  427.0\n",
       "1    NaN      6  427.0"
      ]
     },
     "execution_count": 37,
     "metadata": {},
     "output_type": "execute_result"
    }
   ],
   "source": [
    "dicc_x[6]"
   ]
  },
  {
   "cell_type": "code",
   "execution_count": 56,
   "id": "1bd540cc",
   "metadata": {},
   "outputs": [
    {
     "data": {
      "text/html": [
       "<div>\n",
       "<style scoped>\n",
       "    .dataframe tbody tr th:only-of-type {\n",
       "        vertical-align: middle;\n",
       "    }\n",
       "\n",
       "    .dataframe tbody tr th {\n",
       "        vertical-align: top;\n",
       "    }\n",
       "\n",
       "    .dataframe thead th {\n",
       "        text-align: right;\n",
       "    }\n",
       "</style>\n",
       "<table border=\"1\" class=\"dataframe\">\n",
       "  <thead>\n",
       "    <tr style=\"text-align: right;\">\n",
       "      <th></th>\n",
       "      <th>x</th>\n",
       "      <th>index</th>\n",
       "      <th>x</th>\n",
       "      <th>index</th>\n",
       "    </tr>\n",
       "  </thead>\n",
       "  <tbody>\n",
       "    <tr>\n",
       "      <th>0</th>\n",
       "      <td>273.0</td>\n",
       "      <td>42.0</td>\n",
       "      <td>273.0</td>\n",
       "      <td>42</td>\n",
       "    </tr>\n",
       "    <tr>\n",
       "      <th>1</th>\n",
       "      <td>NaN</td>\n",
       "      <td>NaN</td>\n",
       "      <td>276.0</td>\n",
       "      <td>48</td>\n",
       "    </tr>\n",
       "  </tbody>\n",
       "</table>\n",
       "</div>"
      ],
      "text/plain": [
       "       x  index      x  index\n",
       "0  273.0   42.0  273.0     42\n",
       "1    NaN    NaN  276.0     48"
      ]
     },
     "execution_count": 56,
     "metadata": {},
     "output_type": "execute_result"
    }
   ],
   "source": [
    "dff_x"
   ]
  },
  {
   "cell_type": "code",
   "execution_count": 43,
   "id": "9143ba51",
   "metadata": {},
   "outputs": [
    {
     "data": {
      "text/plain": [
       "[24, 30, 30, 30]"
      ]
     },
     "execution_count": 43,
     "metadata": {},
     "output_type": "execute_result"
    }
   ],
   "source": [
    "idd"
   ]
  },
  {
   "cell_type": "markdown",
   "id": "6c501aa5",
   "metadata": {},
   "source": [
    "# Webcam connection"
   ]
  },
  {
   "cell_type": "code",
   "execution_count": 13,
   "id": "27910417",
   "metadata": {},
   "outputs": [],
   "source": [
    "url = 'http://192.168.43.1:8080/shot.jpg'\n",
    "font = cv2.FONT_HERSHEY_SIMPLEX"
   ]
  },
  {
   "cell_type": "code",
   "execution_count": 15,
   "id": "fe852ac2",
   "metadata": {},
   "outputs": [],
   "source": [
    "import requests\n",
    "from PIL import Image\n",
    "from io import BytesIO"
   ]
  },
  {
   "cell_type": "code",
   "execution_count": null,
   "id": "24fc685d",
   "metadata": {},
   "outputs": [],
   "source": [
    "while True:\n",
    "    r = requests.get(url)\n",
    "    image =Image.open(BytesIO(r.content))\n",
    "    image=image.resize((224,224),Image.ANTIALIAS)\n",
    "    np_im = np.array(image)\n",
    "    img_arr = np.array(bytearray(r.content), dtype=np.uint8)\n",
    "    img = cv2.imdecode(img_arr, -1)\n",
    "    np_im=np_im.reshape((1,)+np_im.shape)\n",
    "\n",
    "    \n",
    "\n",
    "    img_in = cv2.cvtColor(img, cv2.COLOR_BGR2RGB)\n",
    "    img_in = tf.expand_dims(img_in, 0)\n",
    "    img_in = transform_images(img_in, 416)\n",
    "\n",
    "    t1 = time.time()\n",
    "\n",
    "    boxes, scores, classes, nums = yolo.predict(img_in)\n",
    "\n",
    "    classes = classes[0]\n",
    "    names = []\n",
    "    for i in range(len(classes)):\n",
    "        names.append(class_names[int(classes[i])])\n",
    "    names = np.array(names)\n",
    "    converted_boxes = convert_boxes(img, boxes[0])\n",
    "    features = encoder(img, converted_boxes)\n",
    "\n",
    "    detections = [Detection(bbox, score, class_name, feature) for bbox, score, class_name, feature in\n",
    "                  zip(converted_boxes, scores[0], names, features)]\n",
    "\n",
    "    boxs = np.array([d.tlwh for d in detections])\n",
    "    scores = np.array([d.confidence for d in detections])\n",
    "    classes = np.array([d.class_name for d in detections])\n",
    "    indices = preprocessing.non_max_suppression(boxs, classes, nms_max_overlap, scores)\n",
    "    detections = [detections[i] for i in indices]\n",
    "\n",
    "    tracker.predict()\n",
    "    tracker.update(detections)\n",
    "\n",
    "    cmap = plt.get_cmap('tab20b')\n",
    "    colors = [cmap(i)[:3] for i in np.linspace(0,1,20)]\n",
    "\n",
    "    current_count = int(0)\n",
    "    #centers = []\n",
    "    for track in tracker.tracks:\n",
    "        if not track.is_confirmed() or track.time_since_update >1:\n",
    "            continue\n",
    "        bbox = track.to_tlbr()\n",
    "        class_name= track.get_class()\n",
    "        color = colors[int(track.track_id) % len(colors)]\n",
    "        color = [i * 255 for i in color]\n",
    "\n",
    "        cv2.rectangle(img, (int(bbox[0]),int(bbox[1])), (int(bbox[2]),int(bbox[3])), color, 2)\n",
    "        cv2.rectangle(img, (int(bbox[0]), int(bbox[1]-30)), (int(bbox[0])+(len(class_name)\n",
    "                    +len(str(track.track_id)))*17, int(bbox[1])), color, -1)\n",
    "        cv2.putText(img, class_name+\"-\"+str(track.track_id), (int(bbox[0]), int(bbox[1]-10)), 0, 0.75,\n",
    "                    (255, 255, 255), 2)\n",
    "\n",
    "        k=k+1\n",
    "        x = int(((bbox[0]) + (bbox[2]))/2)\n",
    "        y = int(((bbox[1])+(bbox[3]))/2)\n",
    "        x = float(x)\n",
    "        y = float(y)\n",
    "        center = [x, y]\n",
    "        #center = np.array(center)\n",
    "        #pts[track.track_id].append(center)\n",
    "        centers.append([center, k, track.track_id])\n",
    "        centers_x.append([x, k, track.track_id])\n",
    "        centers_y.append([y, k, track.track_id])\n",
    "        \n",
    "        #print(centers)\n",
    "        \n",
    "\n",
    "        for j in range(1, len(pts[track.track_id])):\n",
    "            if pts[track.track_id][j-1] is None or pts[track.track_id][j] is None:\n",
    "                continue\n",
    "            thickness = int(np.sqrt(64/float(j+1))*2)\n",
    "            cv2.line(img, (pts[track.track_id][j-1]), (pts[track.track_id][j]), color, thickness)\n",
    "\n",
    "        height, width, _ = img.shape\n",
    "        cv2.line(img, (0, int(3*height/6+height/20)), (width, int(3*height/6+height/20)), (0, 255, 0), thickness=2)\n",
    "        cv2.line(img, (0, int(3*height/6-height/20)), (width, int(3*height/6-height/20)), (0, 255, 0), thickness=2)\n",
    "\n",
    "        center_y = int(((bbox[1])+(bbox[3]))/2)\n",
    "\n",
    "        if center_y <= int(3*height/6+height/20) and center_y >= int(3*height/6-height/20):\n",
    "            if class_name == 'car' or class_name == 'truck':\n",
    "                counter.append(int(track.track_id))\n",
    "                current_count += 1\n",
    "    #allcenters.append(centers)\n",
    "\n",
    "    total_count = len(set(counter))\n",
    "    cv2.putText(img, \"Current Vehicle Count: \" + str(current_count), (0, 80), 0, 1, (0, 0, 255), 2)\n",
    "    cv2.putText(img, \"Total Vehicle Count: \" + str(total_count), (0,130), 0, 1, (0,0,255), 2)\n",
    "\n",
    "    fps = 1./(time.time()-t1)\n",
    "    cv2.putText(img, \"FPS: {:.2f}\".format(fps), (0,30), 0, 1, (0,0,255), 2)\n",
    "    cv2.resizeWindow('output', 1024, 768)\n",
    "    cv2.imshow('output', img)\n",
    "    #out.write(img)\n",
    "\n",
    "    if cv2.waitKey(1) == ord('q'):\n",
    "        break\n",
    "vid.release()\n",
    "out.release()\n",
    "cv2.destroyAllWindows()"
   ]
  },
  {
   "cell_type": "code",
   "execution_count": null,
   "id": "86d02ac8",
   "metadata": {},
   "outputs": [],
   "source": []
  },
  {
   "cell_type": "code",
   "execution_count": null,
   "id": "e741ed62",
   "metadata": {},
   "outputs": [],
   "source": []
  },
  {
   "cell_type": "code",
   "execution_count": null,
   "id": "1ea5b4bf",
   "metadata": {},
   "outputs": [],
   "source": []
  },
  {
   "cell_type": "code",
   "execution_count": null,
   "id": "b384710f",
   "metadata": {},
   "outputs": [],
   "source": []
  }
 ],
 "metadata": {
  "kernelspec": {
   "display_name": "Python 3 (ipykernel)",
   "language": "python",
   "name": "python3"
  },
  "language_info": {
   "codemirror_mode": {
    "name": "ipython",
    "version": 3
   },
   "file_extension": ".py",
   "mimetype": "text/x-python",
   "name": "python",
   "nbconvert_exporter": "python",
   "pygments_lexer": "ipython3",
   "version": "3.8.11"
  }
 },
 "nbformat": 4,
 "nbformat_minor": 5
}

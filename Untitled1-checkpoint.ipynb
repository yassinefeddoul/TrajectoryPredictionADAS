{
 "cells": [
  {
   "cell_type": "code",
   "execution_count": 1,
   "id": "0ac10d0e",
   "metadata": {
    "scrolled": true
   },
   "outputs": [
    {
     "data": {
      "text/plain": [
       "['C:\\\\Users\\\\Yassi\\\\anaconda3\\\\envs\\\\tf\\\\lib\\\\site-packages\\\\ipykernel_launcher.py']"
      ]
     },
     "execution_count": 1,
     "metadata": {},
     "output_type": "execute_result"
    }
   ],
   "source": [
    "from absl import flags\n",
    "import sys\n",
    "FLAGS = flags.FLAGS\n",
    "sys.argv = sys.argv[:1]\n",
    "FLAGS(sys.argv)"
   ]
  },
  {
   "cell_type": "code",
   "execution_count": 2,
   "id": "6dd91721",
   "metadata": {},
   "outputs": [],
   "source": [
    "import time\n",
    "import numpy as np\n",
    "import cv2\n",
    "import matplotlib.pyplot as plt"
   ]
  },
  {
   "cell_type": "code",
   "execution_count": 4,
   "id": "2675d01d",
   "metadata": {},
   "outputs": [],
   "source": [
    "import tensorflow as tf\n",
    "from yolov3_tf2.models import YoloV3\n",
    "from yolov3_tf2.dataset import transform_images\n",
    "from yolov3_tf2.utils import convert_boxes"
   ]
  },
  {
   "cell_type": "code",
   "execution_count": 5,
   "id": "0642f5ec",
   "metadata": {},
   "outputs": [],
   "source": [
    "from deep_sort import preprocessing\n",
    "from deep_sort import nn_matching\n",
    "from deep_sort.detection import Detection\n",
    "from deep_sort.tracker import Tracker\n",
    "from tools import generate_detections as gdet"
   ]
  },
  {
   "cell_type": "code",
   "execution_count": 6,
   "id": "b4b2c724",
   "metadata": {},
   "outputs": [
    {
     "data": {
      "text/plain": [
       "<tensorflow.python.training.tracking.util.CheckpointLoadStatus at 0x1945fa46fd0>"
      ]
     },
     "execution_count": 6,
     "metadata": {},
     "output_type": "execute_result"
    }
   ],
   "source": [
    "class_names = [c.strip() for c in open('./data/labels/coco.names').readlines()]\n",
    "yolo = YoloV3(classes=len(class_names))\n",
    "yolo.load_weights('./weights/yolov3.tf')"
   ]
  },
  {
   "cell_type": "code",
   "execution_count": 7,
   "id": "c1cfa5ec",
   "metadata": {},
   "outputs": [],
   "source": [
    "max_cosine_distance = 0.5\n",
    "nn_budget = None\n",
    "nms_max_overlap = 0.8"
   ]
  },
  {
   "cell_type": "code",
   "execution_count": 8,
   "id": "4c54d823",
   "metadata": {},
   "outputs": [],
   "source": [
    "model_filename = 'model_data/mars-small128.pb'\n",
    "encoder = gdet.create_box_encoder(model_filename, batch_size=1)\n",
    "metric = nn_matching.NearestNeighborDistanceMetric('cosine', max_cosine_distance, nn_budget)\n",
    "tracker = Tracker(metric)"
   ]
  },
  {
   "cell_type": "code",
   "execution_count": 9,
   "id": "0684e2fb",
   "metadata": {},
   "outputs": [],
   "source": [
    "vid = cv2.VideoCapture('./data/video/project_video.mp4')"
   ]
  },
  {
   "cell_type": "code",
   "execution_count": 10,
   "id": "3db2a603",
   "metadata": {},
   "outputs": [],
   "source": [
    "codec = cv2.VideoWriter_fourcc(*'XVID')\n",
    "vid_fps =int(vid.get(cv2.CAP_PROP_FPS))\n",
    "vid_width,vid_height = int(vid.get(cv2.CAP_PROP_FRAME_WIDTH)), int(vid.get(cv2.CAP_PROP_FRAME_HEIGHT))\n",
    "out = cv2.VideoWriter('./data/video/results.avi', codec, vid_fps, (vid_width, vid_height))"
   ]
  },
  {
   "cell_type": "code",
   "execution_count": 11,
   "id": "be73af3b",
   "metadata": {},
   "outputs": [],
   "source": [
    "from _collections import deque\n",
    "pts = [deque(maxlen=30) for _ in range(1000)]"
   ]
  },
  {
   "cell_type": "code",
   "execution_count": 12,
   "id": "9cb2d103",
   "metadata": {},
   "outputs": [],
   "source": [
    "counter = []\n",
    "k=0\n",
    "allcenters = []\n",
    "centers = []"
   ]
  },
  {
   "cell_type": "code",
   "execution_count": null,
   "id": "e274cedf",
   "metadata": {},
   "outputs": [],
   "source": [
    "while True:\n",
    "    _, img = vid.read()\n",
    "    if img is None:\n",
    "        print('Completed')\n",
    "        break\n",
    "\n",
    "    img_in = cv2.cvtColor(img, cv2.COLOR_BGR2RGB)\n",
    "    img_in = tf.expand_dims(img_in, 0)\n",
    "    img_in = transform_images(img_in, 416)\n",
    "\n",
    "    t1 = time.time()\n",
    "\n",
    "    boxes, scores, classes, nums = yolo.predict(img_in)\n",
    "\n",
    "    classes = classes[0]\n",
    "    names = []\n",
    "    for i in range(len(classes)):\n",
    "        names.append(class_names[int(classes[i])])\n",
    "    names = np.array(names)\n",
    "    converted_boxes = convert_boxes(img, boxes[0])\n",
    "    features = encoder(img, converted_boxes)\n",
    "\n",
    "    detections = [Detection(bbox, score, class_name, feature) for bbox, score, class_name, feature in\n",
    "                  zip(converted_boxes, scores[0], names, features)]\n",
    "\n",
    "    boxs = np.array([d.tlwh for d in detections])\n",
    "    scores = np.array([d.confidence for d in detections])\n",
    "    classes = np.array([d.class_name for d in detections])\n",
    "    indices = preprocessing.non_max_suppression(boxs, classes, nms_max_overlap, scores)\n",
    "    detections = [detections[i] for i in indices]\n",
    "\n",
    "    tracker.predict()\n",
    "    tracker.update(detections)\n",
    "\n",
    "    cmap = plt.get_cmap('tab20b')\n",
    "    colors = [cmap(i)[:3] for i in np.linspace(0,1,20)]\n",
    "\n",
    "    current_count = int(0)\n",
    "    #centers = []\n",
    "    for track in tracker.tracks:\n",
    "        if not track.is_confirmed() or track.time_since_update >1:\n",
    "            continue\n",
    "        bbox = track.to_tlbr()\n",
    "        class_name= track.get_class()\n",
    "        color = colors[int(track.track_id) % len(colors)]\n",
    "        color = [i * 255 for i in color]\n",
    "\n",
    "        cv2.rectangle(img, (int(bbox[0]),int(bbox[1])), (int(bbox[2]),int(bbox[3])), color, 2)\n",
    "        cv2.rectangle(img, (int(bbox[0]), int(bbox[1]-30)), (int(bbox[0])+(len(class_name)\n",
    "                    +len(str(track.track_id)))*17, int(bbox[1])), color, -1)\n",
    "        cv2.putText(img, class_name+\"-\"+str(track.track_id), (int(bbox[0]), int(bbox[1]-10)), 0, 0.75,\n",
    "                    (255, 255, 255), 2)\n",
    "\n",
    "        k=k+1\n",
    "        x = int(((bbox[0]) + (bbox[2]))/2)\n",
    "        y = int(((bbox[1])+(bbox[3]))/2)\n",
    "        x = float(x)\n",
    "        y = float(y)\n",
    "        center = [x, y]\n",
    "        #center = np.array(center)\n",
    "        #pts[track.track_id].append(center)\n",
    "        centers.append([center, k, track.track_id])\n",
    "        \n",
    "        #print(centers)\n",
    "        \n",
    "\n",
    "        for j in range(1, len(pts[track.track_id])):\n",
    "            if pts[track.track_id][j-1] is None or pts[track.track_id][j] is None:\n",
    "                continue\n",
    "            thickness = int(np.sqrt(64/float(j+1))*2)\n",
    "            cv2.line(img, (pts[track.track_id][j-1]), (pts[track.track_id][j]), color, thickness)\n",
    "\n",
    "        height, width, _ = img.shape\n",
    "        cv2.line(img, (0, int(3*height/6+height/20)), (width, int(3*height/6+height/20)), (0, 255, 0), thickness=2)\n",
    "        cv2.line(img, (0, int(3*height/6-height/20)), (width, int(3*height/6-height/20)), (0, 255, 0), thickness=2)\n",
    "\n",
    "        center_y = int(((bbox[1])+(bbox[3]))/2)\n",
    "\n",
    "        if center_y <= int(3*height/6+height/20) and center_y >= int(3*height/6-height/20):\n",
    "            if class_name == 'car' or class_name == 'truck':\n",
    "                counter.append(int(track.track_id))\n",
    "                current_count += 1\n",
    "    #allcenters.append(centers)\n",
    "\n",
    "    total_count = len(set(counter))\n",
    "    cv2.putText(img, \"Current Vehicle Count: \" + str(current_count), (0, 80), 0, 1, (0, 0, 255), 2)\n",
    "    cv2.putText(img, \"Total Vehicle Count: \" + str(total_count), (0,130), 0, 1, (0,0,255), 2)\n",
    "\n",
    "    fps = 1./(time.time()-t1)\n",
    "    cv2.putText(img, \"FPS: {:.2f}\".format(fps), (0,30), 0, 1, (0,0,255), 2)\n",
    "    cv2.resizeWindow('output', 1024, 768)\n",
    "    cv2.imshow('output', img)\n",
    "    out.write(img)\n",
    "\n",
    "    if cv2.waitKey(1) == ord('q'):\n",
    "        break\n",
    "vid.release()\n",
    "out.release()\n",
    "cv2.destroyAllWindows()"
   ]
  },
  {
   "cell_type": "code",
   "execution_count": null,
   "id": "55b1f6cc",
   "metadata": {},
   "outputs": [],
   "source": []
  },
  {
   "cell_type": "code",
   "execution_count": 14,
   "id": "355afeca",
   "metadata": {},
   "outputs": [
    {
     "data": {
      "text/plain": [
       "list"
      ]
     },
     "execution_count": 14,
     "metadata": {},
     "output_type": "execute_result"
    }
   ],
   "source": [
    "type(center)"
   ]
  },
  {
   "cell_type": "code",
   "execution_count": 15,
   "id": "0c80aef0",
   "metadata": {},
   "outputs": [],
   "source": [
    "import pandas as pd"
   ]
  },
  {
   "cell_type": "code",
   "execution_count": 16,
   "id": "dd69ee6d",
   "metadata": {},
   "outputs": [],
   "source": [
    "df = pd.DataFrame(centers, columns=[\"x,y\", \"temps\", \"index\"])"
   ]
  },
  {
   "cell_type": "code",
   "execution_count": 17,
   "id": "cc1acfa8",
   "metadata": {},
   "outputs": [
    {
     "data": {
      "text/html": [
       "<div>\n",
       "<style scoped>\n",
       "    .dataframe tbody tr th:only-of-type {\n",
       "        vertical-align: middle;\n",
       "    }\n",
       "\n",
       "    .dataframe tbody tr th {\n",
       "        vertical-align: top;\n",
       "    }\n",
       "\n",
       "    .dataframe thead th {\n",
       "        text-align: right;\n",
       "    }\n",
       "</style>\n",
       "<table border=\"1\" class=\"dataframe\">\n",
       "  <thead>\n",
       "    <tr style=\"text-align: right;\">\n",
       "      <th></th>\n",
       "      <th>x,y</th>\n",
       "      <th>temps</th>\n",
       "      <th>index</th>\n",
       "    </tr>\n",
       "  </thead>\n",
       "  <tbody>\n",
       "    <tr>\n",
       "      <th>0</th>\n",
       "      <td>[276.0, 427.0]</td>\n",
       "      <td>1</td>\n",
       "      <td>6</td>\n",
       "    </tr>\n",
       "    <tr>\n",
       "      <th>1</th>\n",
       "      <td>[267.0, 426.0]</td>\n",
       "      <td>2</td>\n",
       "      <td>6</td>\n",
       "    </tr>\n",
       "    <tr>\n",
       "      <th>2</th>\n",
       "      <td>[260.0, 426.0]</td>\n",
       "      <td>3</td>\n",
       "      <td>6</td>\n",
       "    </tr>\n",
       "    <tr>\n",
       "      <th>3</th>\n",
       "      <td>[252.0, 426.0]</td>\n",
       "      <td>4</td>\n",
       "      <td>6</td>\n",
       "    </tr>\n",
       "    <tr>\n",
       "      <th>4</th>\n",
       "      <td>[244.0, 427.0]</td>\n",
       "      <td>5</td>\n",
       "      <td>6</td>\n",
       "    </tr>\n",
       "    <tr>\n",
       "      <th>...</th>\n",
       "      <td>...</td>\n",
       "      <td>...</td>\n",
       "      <td>...</td>\n",
       "    </tr>\n",
       "    <tr>\n",
       "      <th>2745</th>\n",
       "      <td>[807.0, 441.0]</td>\n",
       "      <td>2746</td>\n",
       "      <td>128</td>\n",
       "    </tr>\n",
       "    <tr>\n",
       "      <th>2746</th>\n",
       "      <td>[1219.0, 435.0]</td>\n",
       "      <td>2747</td>\n",
       "      <td>136</td>\n",
       "    </tr>\n",
       "    <tr>\n",
       "      <th>2747</th>\n",
       "      <td>[669.0, 406.0]</td>\n",
       "      <td>2748</td>\n",
       "      <td>252</td>\n",
       "    </tr>\n",
       "    <tr>\n",
       "      <th>2748</th>\n",
       "      <td>[807.0, 443.0]</td>\n",
       "      <td>2749</td>\n",
       "      <td>128</td>\n",
       "    </tr>\n",
       "    <tr>\n",
       "      <th>2749</th>\n",
       "      <td>[1217.0, 434.0]</td>\n",
       "      <td>2750</td>\n",
       "      <td>136</td>\n",
       "    </tr>\n",
       "  </tbody>\n",
       "</table>\n",
       "<p>2750 rows × 3 columns</p>\n",
       "</div>"
      ],
      "text/plain": [
       "                  x,y  temps  index\n",
       "0      [276.0, 427.0]      1      6\n",
       "1      [267.0, 426.0]      2      6\n",
       "2      [260.0, 426.0]      3      6\n",
       "3      [252.0, 426.0]      4      6\n",
       "4      [244.0, 427.0]      5      6\n",
       "...               ...    ...    ...\n",
       "2745   [807.0, 441.0]   2746    128\n",
       "2746  [1219.0, 435.0]   2747    136\n",
       "2747   [669.0, 406.0]   2748    252\n",
       "2748   [807.0, 443.0]   2749    128\n",
       "2749  [1217.0, 434.0]   2750    136\n",
       "\n",
       "[2750 rows x 3 columns]"
      ]
     },
     "execution_count": 17,
     "metadata": {},
     "output_type": "execute_result"
    }
   ],
   "source": [
    "df"
   ]
  },
  {
   "cell_type": "code",
   "execution_count": 18,
   "id": "3bd2486b",
   "metadata": {},
   "outputs": [
    {
     "data": {
      "text/plain": [
       "0        [276.0, 427.0]\n",
       "1        [267.0, 426.0]\n",
       "2        [260.0, 426.0]\n",
       "3        [252.0, 426.0]\n",
       "4        [244.0, 427.0]\n",
       "             ...       \n",
       "2745     [807.0, 441.0]\n",
       "2746    [1219.0, 435.0]\n",
       "2747     [669.0, 406.0]\n",
       "2748     [807.0, 443.0]\n",
       "2749    [1217.0, 434.0]\n",
       "Name: x,y, Length: 2750, dtype: object"
      ]
     },
     "execution_count": 18,
     "metadata": {},
     "output_type": "execute_result"
    }
   ],
   "source": [
    "df['x,y']"
   ]
  },
  {
   "cell_type": "code",
   "execution_count": 136,
   "id": "a6a39e04",
   "metadata": {},
   "outputs": [
    {
     "name": "stdout",
     "output_type": "stream",
     "text": [
      "[list([276.0, 427.0]) list([267.0, 426.0]) list([260.0, 426.0]) ...\n",
      " list([669.0, 406.0]) list([807.0, 443.0]) list([1217.0, 434.0])]\n"
     ]
    }
   ],
   "source": [
    "print(df[\"x,y\"].to_numpy())"
   ]
  },
  {
   "cell_type": "code",
   "execution_count": null,
   "id": "b07c8ed5",
   "metadata": {},
   "outputs": [],
   "source": []
  },
  {
   "cell_type": "code",
   "execution_count": 19,
   "id": "9a7f7ac0",
   "metadata": {},
   "outputs": [],
   "source": [
    "dic=dict()\n",
    "dicc=dict()"
   ]
  },
  {
   "cell_type": "code",
   "execution_count": 20,
   "id": "388ac7ae",
   "metadata": {},
   "outputs": [],
   "source": [
    "for z in df['index'].unique():\n",
    "    dic[z]= df[df['index']==z]\n",
    "    dic[z] = dic[z].drop(columns=['temps'])\n",
    "    dic[z] = dic[z].drop(columns=['index'])\n",
    "    dicc[z] = dic[z]\n",
    "    dic[z] = dic[z].values.tolist()"
   ]
  },
  {
   "cell_type": "code",
   "execution_count": 21,
   "id": "8b421d15",
   "metadata": {},
   "outputs": [],
   "source": [
    "dic2 = dict()"
   ]
  },
  {
   "cell_type": "code",
   "execution_count": 22,
   "id": "34573765",
   "metadata": {},
   "outputs": [],
   "source": [
    "for key in dicc:    \n",
    "    n=0\n",
    "    dic2[key]=list()\n",
    "    for lin in dicc[key].index:\n",
    "        if n+4 > len(dicc[key])-1:\n",
    "            #print(str(key)+\"      \"+str(n)+\"    \"+str(len(dic[key])-5)+\"    \"+str(len(dic[key])-1))\n",
    "            break\n",
    "        x1 = dic[key][n][0]\n",
    "        x2 = dic[key][n+1][0]\n",
    "        x3 = dic[key][n+2][0]\n",
    "        x4 = dic[key][n+3][0]\n",
    "        x5 = dic[key][n+4][0]\n",
    "        n = n+1\n",
    "        #print(n)\n",
    "        #print(lin+4)\n",
    "        dic2[key].append([x1, x2, x3, x4, x5])\n",
    "    dic2[key] = pd.DataFrame(dic2[key], columns=[\"x1\", \"x2\", \"x3\", \"x4\", \"x5\"])\n",
    "    #break"
   ]
  },
  {
   "cell_type": "code",
   "execution_count": 23,
   "id": "14208f0b",
   "metadata": {},
   "outputs": [
    {
     "data": {
      "text/plain": [
       "[669.0, 406.0]"
      ]
     },
     "execution_count": 23,
     "metadata": {},
     "output_type": "execute_result"
    }
   ],
   "source": [
    "x5"
   ]
  },
  {
   "cell_type": "code",
   "execution_count": 24,
   "id": "10b60449",
   "metadata": {},
   "outputs": [],
   "source": [
    "X = dic2[6][[\"x1\", \"x2\", \"x3\", \"x4\"]]"
   ]
  },
  {
   "cell_type": "code",
   "execution_count": 25,
   "id": "74ceec13",
   "metadata": {},
   "outputs": [
    {
     "data": {
      "text/html": [
       "<div>\n",
       "<style scoped>\n",
       "    .dataframe tbody tr th:only-of-type {\n",
       "        vertical-align: middle;\n",
       "    }\n",
       "\n",
       "    .dataframe tbody tr th {\n",
       "        vertical-align: top;\n",
       "    }\n",
       "\n",
       "    .dataframe thead th {\n",
       "        text-align: right;\n",
       "    }\n",
       "</style>\n",
       "<table border=\"1\" class=\"dataframe\">\n",
       "  <thead>\n",
       "    <tr style=\"text-align: right;\">\n",
       "      <th></th>\n",
       "      <th>x1</th>\n",
       "      <th>x2</th>\n",
       "      <th>x3</th>\n",
       "      <th>x4</th>\n",
       "    </tr>\n",
       "  </thead>\n",
       "  <tbody>\n",
       "    <tr>\n",
       "      <th>0</th>\n",
       "      <td>[276.0, 427.0]</td>\n",
       "      <td>[267.0, 426.0]</td>\n",
       "      <td>[260.0, 426.0]</td>\n",
       "      <td>[252.0, 426.0]</td>\n",
       "    </tr>\n",
       "    <tr>\n",
       "      <th>1</th>\n",
       "      <td>[267.0, 426.0]</td>\n",
       "      <td>[260.0, 426.0]</td>\n",
       "      <td>[252.0, 426.0]</td>\n",
       "      <td>[244.0, 427.0]</td>\n",
       "    </tr>\n",
       "    <tr>\n",
       "      <th>2</th>\n",
       "      <td>[260.0, 426.0]</td>\n",
       "      <td>[252.0, 426.0]</td>\n",
       "      <td>[244.0, 427.0]</td>\n",
       "      <td>[236.0, 426.0]</td>\n",
       "    </tr>\n",
       "    <tr>\n",
       "      <th>3</th>\n",
       "      <td>[252.0, 426.0]</td>\n",
       "      <td>[244.0, 427.0]</td>\n",
       "      <td>[236.0, 426.0]</td>\n",
       "      <td>[226.0, 426.0]</td>\n",
       "    </tr>\n",
       "    <tr>\n",
       "      <th>4</th>\n",
       "      <td>[244.0, 427.0]</td>\n",
       "      <td>[236.0, 426.0]</td>\n",
       "      <td>[226.0, 426.0]</td>\n",
       "      <td>[217.0, 426.0]</td>\n",
       "    </tr>\n",
       "    <tr>\n",
       "      <th>5</th>\n",
       "      <td>[236.0, 426.0]</td>\n",
       "      <td>[226.0, 426.0]</td>\n",
       "      <td>[217.0, 426.0]</td>\n",
       "      <td>[207.0, 426.0]</td>\n",
       "    </tr>\n",
       "    <tr>\n",
       "      <th>6</th>\n",
       "      <td>[226.0, 426.0]</td>\n",
       "      <td>[217.0, 426.0]</td>\n",
       "      <td>[207.0, 426.0]</td>\n",
       "      <td>[195.0, 427.0]</td>\n",
       "    </tr>\n",
       "    <tr>\n",
       "      <th>7</th>\n",
       "      <td>[217.0, 426.0]</td>\n",
       "      <td>[207.0, 426.0]</td>\n",
       "      <td>[195.0, 427.0]</td>\n",
       "      <td>[185.0, 427.0]</td>\n",
       "    </tr>\n",
       "    <tr>\n",
       "      <th>8</th>\n",
       "      <td>[207.0, 426.0]</td>\n",
       "      <td>[195.0, 427.0]</td>\n",
       "      <td>[185.0, 427.0]</td>\n",
       "      <td>[172.0, 427.0]</td>\n",
       "    </tr>\n",
       "    <tr>\n",
       "      <th>9</th>\n",
       "      <td>[195.0, 427.0]</td>\n",
       "      <td>[185.0, 427.0]</td>\n",
       "      <td>[172.0, 427.0]</td>\n",
       "      <td>[158.0, 427.0]</td>\n",
       "    </tr>\n",
       "    <tr>\n",
       "      <th>10</th>\n",
       "      <td>[185.0, 427.0]</td>\n",
       "      <td>[172.0, 427.0]</td>\n",
       "      <td>[158.0, 427.0]</td>\n",
       "      <td>[143.0, 429.0]</td>\n",
       "    </tr>\n",
       "    <tr>\n",
       "      <th>11</th>\n",
       "      <td>[172.0, 427.0]</td>\n",
       "      <td>[158.0, 427.0]</td>\n",
       "      <td>[143.0, 429.0]</td>\n",
       "      <td>[128.0, 428.0]</td>\n",
       "    </tr>\n",
       "    <tr>\n",
       "      <th>12</th>\n",
       "      <td>[158.0, 427.0]</td>\n",
       "      <td>[143.0, 429.0]</td>\n",
       "      <td>[128.0, 428.0]</td>\n",
       "      <td>[110.0, 429.0]</td>\n",
       "    </tr>\n",
       "    <tr>\n",
       "      <th>13</th>\n",
       "      <td>[143.0, 429.0]</td>\n",
       "      <td>[128.0, 428.0]</td>\n",
       "      <td>[110.0, 429.0]</td>\n",
       "      <td>[90.0, 430.0]</td>\n",
       "    </tr>\n",
       "    <tr>\n",
       "      <th>14</th>\n",
       "      <td>[128.0, 428.0]</td>\n",
       "      <td>[110.0, 429.0]</td>\n",
       "      <td>[90.0, 430.0]</td>\n",
       "      <td>[68.0, 430.0]</td>\n",
       "    </tr>\n",
       "    <tr>\n",
       "      <th>15</th>\n",
       "      <td>[110.0, 429.0]</td>\n",
       "      <td>[90.0, 430.0]</td>\n",
       "      <td>[68.0, 430.0]</td>\n",
       "      <td>[45.0, 431.0]</td>\n",
       "    </tr>\n",
       "    <tr>\n",
       "      <th>16</th>\n",
       "      <td>[90.0, 430.0]</td>\n",
       "      <td>[68.0, 430.0]</td>\n",
       "      <td>[45.0, 431.0]</td>\n",
       "      <td>[31.0, 431.0]</td>\n",
       "    </tr>\n",
       "    <tr>\n",
       "      <th>17</th>\n",
       "      <td>[68.0, 430.0]</td>\n",
       "      <td>[45.0, 431.0]</td>\n",
       "      <td>[31.0, 431.0]</td>\n",
       "      <td>[15.0, 431.0]</td>\n",
       "    </tr>\n",
       "  </tbody>\n",
       "</table>\n",
       "</div>"
      ],
      "text/plain": [
       "                x1              x2              x3              x4\n",
       "0   [276.0, 427.0]  [267.0, 426.0]  [260.0, 426.0]  [252.0, 426.0]\n",
       "1   [267.0, 426.0]  [260.0, 426.0]  [252.0, 426.0]  [244.0, 427.0]\n",
       "2   [260.0, 426.0]  [252.0, 426.0]  [244.0, 427.0]  [236.0, 426.0]\n",
       "3   [252.0, 426.0]  [244.0, 427.0]  [236.0, 426.0]  [226.0, 426.0]\n",
       "4   [244.0, 427.0]  [236.0, 426.0]  [226.0, 426.0]  [217.0, 426.0]\n",
       "5   [236.0, 426.0]  [226.0, 426.0]  [217.0, 426.0]  [207.0, 426.0]\n",
       "6   [226.0, 426.0]  [217.0, 426.0]  [207.0, 426.0]  [195.0, 427.0]\n",
       "7   [217.0, 426.0]  [207.0, 426.0]  [195.0, 427.0]  [185.0, 427.0]\n",
       "8   [207.0, 426.0]  [195.0, 427.0]  [185.0, 427.0]  [172.0, 427.0]\n",
       "9   [195.0, 427.0]  [185.0, 427.0]  [172.0, 427.0]  [158.0, 427.0]\n",
       "10  [185.0, 427.0]  [172.0, 427.0]  [158.0, 427.0]  [143.0, 429.0]\n",
       "11  [172.0, 427.0]  [158.0, 427.0]  [143.0, 429.0]  [128.0, 428.0]\n",
       "12  [158.0, 427.0]  [143.0, 429.0]  [128.0, 428.0]  [110.0, 429.0]\n",
       "13  [143.0, 429.0]  [128.0, 428.0]  [110.0, 429.0]   [90.0, 430.0]\n",
       "14  [128.0, 428.0]  [110.0, 429.0]   [90.0, 430.0]   [68.0, 430.0]\n",
       "15  [110.0, 429.0]   [90.0, 430.0]   [68.0, 430.0]   [45.0, 431.0]\n",
       "16   [90.0, 430.0]   [68.0, 430.0]   [45.0, 431.0]   [31.0, 431.0]\n",
       "17   [68.0, 430.0]   [45.0, 431.0]   [31.0, 431.0]   [15.0, 431.0]"
      ]
     },
     "execution_count": 25,
     "metadata": {},
     "output_type": "execute_result"
    }
   ],
   "source": [
    "X"
   ]
  },
  {
   "cell_type": "code",
   "execution_count": 37,
   "id": "9b910c89",
   "metadata": {},
   "outputs": [],
   "source": [
    "c= []"
   ]
  },
  {
   "cell_type": "code",
   "execution_count": 38,
   "id": "28fcfed1",
   "metadata": {},
   "outputs": [],
   "source": [
    "c.append(X.loc[1:1])"
   ]
  },
  {
   "cell_type": "code",
   "execution_count": 41,
   "id": "6db4bbd4",
   "metadata": {},
   "outputs": [
    {
     "data": {
      "text/plain": [
       "list"
      ]
     },
     "execution_count": 41,
     "metadata": {},
     "output_type": "execute_result"
    }
   ],
   "source": [
    "type(c)"
   ]
  },
  {
   "cell_type": "code",
   "execution_count": null,
   "id": "bd9125cc",
   "metadata": {},
   "outputs": [],
   "source": []
  },
  {
   "cell_type": "code",
   "execution_count": 54,
   "id": "253be649",
   "metadata": {},
   "outputs": [
    {
     "data": {
      "text/plain": [
       "[276.0, 427.0]"
      ]
     },
     "execution_count": 54,
     "metadata": {},
     "output_type": "execute_result"
    }
   ],
   "source": [
    "X.iloc[0][0]"
   ]
  },
  {
   "cell_type": "code",
   "execution_count": 59,
   "id": "68f5156f",
   "metadata": {},
   "outputs": [
    {
     "data": {
      "text/plain": [
       "[267.0, 426.0]"
      ]
     },
     "execution_count": 59,
     "metadata": {},
     "output_type": "execute_result"
    }
   ],
   "source": [
    "X.iloc[1][0]"
   ]
  },
  {
   "cell_type": "code",
   "execution_count": 57,
   "id": "49b9a743",
   "metadata": {},
   "outputs": [],
   "source": [
    "s = [X.iloc[0][0], X.iloc[0][1], X.iloc[0][2], X.iloc[0][3]]"
   ]
  },
  {
   "cell_type": "code",
   "execution_count": 60,
   "id": "aa00888a",
   "metadata": {},
   "outputs": [],
   "source": [
    "s = []"
   ]
  },
  {
   "cell_type": "code",
   "execution_count": 61,
   "id": "8e67a34f",
   "metadata": {},
   "outputs": [],
   "source": [
    "for i in range(len(X)):\n",
    "    s.append([X.iloc[i][0], X.iloc[i][1], X.iloc[i][2], X.iloc[i][3]])"
   ]
  },
  {
   "cell_type": "code",
   "execution_count": 62,
   "id": "eff59ae1",
   "metadata": {},
   "outputs": [
    {
     "data": {
      "text/plain": [
       "[[[276.0, 427.0], [267.0, 426.0], [260.0, 426.0], [252.0, 426.0]],\n",
       " [[267.0, 426.0], [260.0, 426.0], [252.0, 426.0], [244.0, 427.0]],\n",
       " [[260.0, 426.0], [252.0, 426.0], [244.0, 427.0], [236.0, 426.0]],\n",
       " [[252.0, 426.0], [244.0, 427.0], [236.0, 426.0], [226.0, 426.0]],\n",
       " [[244.0, 427.0], [236.0, 426.0], [226.0, 426.0], [217.0, 426.0]],\n",
       " [[236.0, 426.0], [226.0, 426.0], [217.0, 426.0], [207.0, 426.0]],\n",
       " [[226.0, 426.0], [217.0, 426.0], [207.0, 426.0], [195.0, 427.0]],\n",
       " [[217.0, 426.0], [207.0, 426.0], [195.0, 427.0], [185.0, 427.0]],\n",
       " [[207.0, 426.0], [195.0, 427.0], [185.0, 427.0], [172.0, 427.0]],\n",
       " [[195.0, 427.0], [185.0, 427.0], [172.0, 427.0], [158.0, 427.0]],\n",
       " [[185.0, 427.0], [172.0, 427.0], [158.0, 427.0], [143.0, 429.0]],\n",
       " [[172.0, 427.0], [158.0, 427.0], [143.0, 429.0], [128.0, 428.0]],\n",
       " [[158.0, 427.0], [143.0, 429.0], [128.0, 428.0], [110.0, 429.0]],\n",
       " [[143.0, 429.0], [128.0, 428.0], [110.0, 429.0], [90.0, 430.0]],\n",
       " [[128.0, 428.0], [110.0, 429.0], [90.0, 430.0], [68.0, 430.0]],\n",
       " [[110.0, 429.0], [90.0, 430.0], [68.0, 430.0], [45.0, 431.0]],\n",
       " [[90.0, 430.0], [68.0, 430.0], [45.0, 431.0], [31.0, 431.0]],\n",
       " [[68.0, 430.0], [45.0, 431.0], [31.0, 431.0], [15.0, 431.0]]]"
      ]
     },
     "execution_count": 62,
     "metadata": {},
     "output_type": "execute_result"
    }
   ],
   "source": [
    "s"
   ]
  },
  {
   "cell_type": "code",
   "execution_count": 63,
   "id": "95d006dc",
   "metadata": {},
   "outputs": [],
   "source": [
    "Y = dic2[6][\"x5\"]"
   ]
  },
  {
   "cell_type": "code",
   "execution_count": 64,
   "id": "80846dd5",
   "metadata": {},
   "outputs": [
    {
     "data": {
      "text/plain": [
       "0     [244.0, 427.0]\n",
       "1     [236.0, 426.0]\n",
       "2     [226.0, 426.0]\n",
       "3     [217.0, 426.0]\n",
       "4     [207.0, 426.0]\n",
       "5     [195.0, 427.0]\n",
       "6     [185.0, 427.0]\n",
       "7     [172.0, 427.0]\n",
       "8     [158.0, 427.0]\n",
       "9     [143.0, 429.0]\n",
       "10    [128.0, 428.0]\n",
       "11    [110.0, 429.0]\n",
       "12     [90.0, 430.0]\n",
       "13     [68.0, 430.0]\n",
       "14     [45.0, 431.0]\n",
       "15     [31.0, 431.0]\n",
       "16     [15.0, 431.0]\n",
       "17      [2.0, 432.0]\n",
       "Name: x5, dtype: object"
      ]
     },
     "execution_count": 64,
     "metadata": {},
     "output_type": "execute_result"
    }
   ],
   "source": [
    "Y"
   ]
  },
  {
   "cell_type": "code",
   "execution_count": 65,
   "id": "07cd921f",
   "metadata": {},
   "outputs": [
    {
     "data": {
      "text/plain": [
       "[244.0, 427.0]"
      ]
     },
     "execution_count": 65,
     "metadata": {},
     "output_type": "execute_result"
    }
   ],
   "source": [
    "Y.iloc[0]"
   ]
  },
  {
   "cell_type": "code",
   "execution_count": 66,
   "id": "8786d14c",
   "metadata": {},
   "outputs": [],
   "source": [
    "y = []"
   ]
  },
  {
   "cell_type": "code",
   "execution_count": 67,
   "id": "5f469fba",
   "metadata": {},
   "outputs": [],
   "source": [
    "for j in range(len(Y)):\n",
    "    y.append(Y.iloc[j])"
   ]
  },
  {
   "cell_type": "code",
   "execution_count": 68,
   "id": "49bf8cf0",
   "metadata": {},
   "outputs": [
    {
     "data": {
      "text/plain": [
       "[[244.0, 427.0],\n",
       " [236.0, 426.0],\n",
       " [226.0, 426.0],\n",
       " [217.0, 426.0],\n",
       " [207.0, 426.0],\n",
       " [195.0, 427.0],\n",
       " [185.0, 427.0],\n",
       " [172.0, 427.0],\n",
       " [158.0, 427.0],\n",
       " [143.0, 429.0],\n",
       " [128.0, 428.0],\n",
       " [110.0, 429.0],\n",
       " [90.0, 430.0],\n",
       " [68.0, 430.0],\n",
       " [45.0, 431.0],\n",
       " [31.0, 431.0],\n",
       " [15.0, 431.0],\n",
       " [2.0, 432.0]]"
      ]
     },
     "execution_count": 68,
     "metadata": {},
     "output_type": "execute_result"
    }
   ],
   "source": [
    "y"
   ]
  },
  {
   "cell_type": "code",
   "execution_count": 69,
   "id": "8cfe73e4",
   "metadata": {},
   "outputs": [],
   "source": [
    "from sklearn.svm import SVR"
   ]
  },
  {
   "cell_type": "code",
   "execution_count": 70,
   "id": "48f2a043",
   "metadata": {},
   "outputs": [],
   "source": [
    "lin_svr = SVR(kernel='poly', )"
   ]
  },
  {
   "cell_type": "code",
   "execution_count": null,
   "id": "6945ff9a",
   "metadata": {},
   "outputs": [],
   "source": []
  },
  {
   "cell_type": "code",
   "execution_count": null,
   "id": "e7f0ac46",
   "metadata": {},
   "outputs": [],
   "source": []
  },
  {
   "cell_type": "code",
   "execution_count": null,
   "id": "aefa9d12",
   "metadata": {},
   "outputs": [],
   "source": []
  },
  {
   "cell_type": "code",
   "execution_count": null,
   "id": "8a6207d3",
   "metadata": {},
   "outputs": [],
   "source": []
  },
  {
   "cell_type": "code",
   "execution_count": null,
   "id": "0b5e3548",
   "metadata": {},
   "outputs": [],
   "source": []
  },
  {
   "cell_type": "code",
   "execution_count": null,
   "id": "565427e6",
   "metadata": {},
   "outputs": [],
   "source": []
  },
  {
   "cell_type": "code",
   "execution_count": null,
   "id": "0995f72c",
   "metadata": {},
   "outputs": [],
   "source": []
  },
  {
   "cell_type": "code",
   "execution_count": null,
   "id": "3af91abc",
   "metadata": {},
   "outputs": [],
   "source": []
  },
  {
   "cell_type": "code",
   "execution_count": null,
   "id": "a4a7a876",
   "metadata": {},
   "outputs": [],
   "source": []
  },
  {
   "cell_type": "code",
   "execution_count": null,
   "id": "d7ca23e0",
   "metadata": {},
   "outputs": [],
   "source": []
  },
  {
   "cell_type": "code",
   "execution_count": null,
   "id": "a8971c76",
   "metadata": {},
   "outputs": [],
   "source": []
  },
  {
   "cell_type": "code",
   "execution_count": null,
   "id": "2486220e",
   "metadata": {},
   "outputs": [],
   "source": []
  },
  {
   "cell_type": "code",
   "execution_count": null,
   "id": "7eeae6ac",
   "metadata": {},
   "outputs": [],
   "source": []
  },
  {
   "cell_type": "code",
   "execution_count": null,
   "id": "16a03090",
   "metadata": {},
   "outputs": [],
   "source": []
  },
  {
   "cell_type": "code",
   "execution_count": null,
   "id": "8113a2d8",
   "metadata": {},
   "outputs": [],
   "source": []
  },
  {
   "cell_type": "code",
   "execution_count": null,
   "id": "71d53257",
   "metadata": {},
   "outputs": [],
   "source": []
  },
  {
   "cell_type": "code",
   "execution_count": null,
   "id": "c3ed7901",
   "metadata": {},
   "outputs": [],
   "source": []
  },
  {
   "cell_type": "code",
   "execution_count": null,
   "id": "f5ba9cd4",
   "metadata": {},
   "outputs": [],
   "source": []
  },
  {
   "cell_type": "code",
   "execution_count": null,
   "id": "4ae3d19b",
   "metadata": {},
   "outputs": [],
   "source": []
  },
  {
   "cell_type": "code",
   "execution_count": null,
   "id": "ebb95ba7",
   "metadata": {},
   "outputs": [],
   "source": []
  },
  {
   "cell_type": "code",
   "execution_count": null,
   "id": "e0c7cc64",
   "metadata": {},
   "outputs": [],
   "source": []
  },
  {
   "cell_type": "code",
   "execution_count": null,
   "id": "4cb34185",
   "metadata": {},
   "outputs": [],
   "source": []
  },
  {
   "cell_type": "code",
   "execution_count": null,
   "id": "577d5836",
   "metadata": {},
   "outputs": [],
   "source": []
  },
  {
   "cell_type": "code",
   "execution_count": null,
   "id": "35d6f5fa",
   "metadata": {},
   "outputs": [],
   "source": []
  },
  {
   "cell_type": "code",
   "execution_count": null,
   "id": "0570f249",
   "metadata": {},
   "outputs": [],
   "source": []
  },
  {
   "cell_type": "code",
   "execution_count": null,
   "id": "ed371fde",
   "metadata": {},
   "outputs": [],
   "source": []
  },
  {
   "cell_type": "code",
   "execution_count": null,
   "id": "f28b42b1",
   "metadata": {},
   "outputs": [],
   "source": []
  },
  {
   "cell_type": "code",
   "execution_count": null,
   "id": "86538c31",
   "metadata": {},
   "outputs": [],
   "source": []
  },
  {
   "cell_type": "code",
   "execution_count": null,
   "id": "c5426565",
   "metadata": {},
   "outputs": [],
   "source": []
  },
  {
   "cell_type": "code",
   "execution_count": null,
   "id": "b90cce12",
   "metadata": {},
   "outputs": [],
   "source": []
  }
 ],
 "metadata": {
  "kernelspec": {
   "display_name": "Python 3",
   "language": "python",
   "name": "python3"
  },
  "language_info": {
   "codemirror_mode": {
    "name": "ipython",
    "version": 3
   },
   "file_extension": ".py",
   "mimetype": "text/x-python",
   "name": "python",
   "nbconvert_exporter": "python",
   "pygments_lexer": "ipython3",
   "version": "3.8.8"
  }
 },
 "nbformat": 4,
 "nbformat_minor": 5
}
